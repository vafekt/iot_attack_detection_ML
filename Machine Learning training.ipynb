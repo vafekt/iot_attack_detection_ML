{
 "cells": [
  {
   "cell_type": "markdown",
   "id": "afcc5151",
   "metadata": {},
   "source": [
    "# 1. Loading libraries\n"
   ]
  },
  {
   "cell_type": "code",
   "execution_count": null,
   "id": "d414d0b4",
   "metadata": {},
   "outputs": [],
   "source": [
    "!pip uninstall scikit-learn\n",
    "!pip install scikit-learn==1.2.2"
   ]
  },
  {
   "cell_type": "code",
   "execution_count": 1,
   "id": "f8ae0710",
   "metadata": {},
   "outputs": [],
   "source": [
    "import pandas as pd\n",
    "from sklearn import preprocessing\n",
    "from sklearn.cluster import DBSCAN\n",
    "from tabulate import tabulate\n",
    "import matplotlib.pyplot as plt\n",
    "from sklearn.model_selection import train_test_split \n",
    "import seaborn as sns\n",
    "import numpy as np\n",
    "# importing required libraries for normalizing data\n",
    "from sklearn.preprocessing import StandardScaler,LabelBinarizer,MinMaxScaler\n",
    "from sklearn.neighbors import NearestNeighbors\n",
    "import tensorflow as tf\n",
    "from tensorflow.keras.utils import to_categorical\n",
    "from keras.layers import Dense, MaxPool1D, Flatten, Dropout,Conv1D , BatchNormalization,Input\n",
    "from keras.models import Sequential,Model # importing dense layer\n",
    "# representation of model layers\n",
    "from keras.utils import plot_model\n",
    "from sklearn.metrics import accuracy_score, precision_score, recall_score, f1_score\n",
    "import xgboost\n",
    "import os\n",
    "import csv\n",
    "import time"
   ]
  },
  {
   "cell_type": "code",
   "execution_count": 2,
   "id": "b9404f50",
   "metadata": {},
   "outputs": [],
   "source": [
    "def change_label(df):\n",
    "  df.label.replace(['DDoS-ICMP_Flood','DDoS-UDP_Flood','DDoS-TCP_Flood','DDoS-PSHACK_Flood','DDoS-SYN_Flood','DDoS-RSTFINFlood','DDoS-SynonymousIP_Flood','DDoS-ICMP_Fragmentation','DDoS-UDP_Fragmentation','DDoS-ACK_Fragmentation','DDoS-HTTP_Flood','DDoS-SlowLoris'],'DDos',inplace=True)\n",
    "  df.label.replace(['DoS-UDP_Flood','DoS-TCP_Flood','DoS-SYN_Flood','DoS-HTTP_Flood'],'DoS',inplace=True)      \n",
    "  df.label.replace(['Recon-HostDiscovery','Recon-OSScan','Recon-PortScan','Recon-PingSweep','VulnerabilityScan'],'Recon',inplace=True)\n",
    "  df.label.replace(['MITM-ArpSpoofing','DNS_Spoofing'],'Spoofing',inplace=True)\n",
    "  df.label.replace(['DictionaryBruteForce'],'BruteForce',inplace=True)\n",
    "  df.label.replace(['BrowserHijacking','XSS','Uploading_Attack','SqlInjection','CommandInjection','Backdoor_Malware'],'Web-based',inplace=True)\n",
    "  df.label.replace(['Mirai-greeth_flood','Mirai-udpplain','Mirai-greip_flood'],'Mirai',inplace=True)\n",
    "  df.label.replace(['BenignTraffic'],'BENIGN',inplace=True)\n",
    "    \n",
    "def scaleStandardData(dataFrame, numeric_cols):\n",
    "  scaler = preprocessing.StandardScaler()\n",
    "  for col in numeric_cols:\n",
    "    arr = dataFrame[col]\n",
    "    arr = np.array(arr)\n",
    "    dataFrame[col] = scaler.fit_transform(arr.reshape(len(arr),1))\n",
    "  return dataFrame\n",
    "\n",
    "def scaleMinMaxData(dataFrame, numeric_cols):\n",
    "  scaler = preprocessing.MinMaxScaler()\n",
    "  for col in numeric_cols:\n",
    "    arr = dataFrame[col]\n",
    "    arr = np.array(arr)\n",
    "    dataFrame[col] = scaler.fit_transform(arr.reshape(len(arr),1))\n",
    "  return dataFrame\n",
    "\n",
    "def scaleData(dataFrame, numeric_cols):\n",
    "  dataFrame = scaleStandardData(dataFrame, numeric_cols)\n",
    "  dataFrame = scaleMinMaxData(dataFrame, numeric_cols)\n",
    "  return dataFrame"
   ]
  },
  {
   "cell_type": "markdown",
   "id": "deb5091f",
   "metadata": {},
   "source": [
    "# 2. Loading data"
   ]
  },
  {
   "cell_type": "code",
   "execution_count": 3,
   "id": "940e04d8",
   "metadata": {},
   "outputs": [
    {
     "name": "stderr",
     "output_type": "stream",
     "text": [
      "C:\\Users\\Viet Anh Phan\\AppData\\Local\\Temp\\ipykernel_14172\\421896230.py:2: FutureWarning: A value is trying to be set on a copy of a DataFrame or Series through chained assignment using an inplace method.\n",
      "The behavior will change in pandas 3.0. This inplace method will never work because the intermediate object on which we are setting values always behaves as a copy.\n",
      "\n",
      "For example, when doing 'df[col].method(value, inplace=True)', try using 'df.method({col: value}, inplace=True)' or df[col] = df[col].method(value) instead, to perform the operation inplace on the original object.\n",
      "\n",
      "\n",
      "  df.label.replace(['DDoS-ICMP_Flood','DDoS-UDP_Flood','DDoS-TCP_Flood','DDoS-PSHACK_Flood','DDoS-SYN_Flood','DDoS-RSTFINFlood','DDoS-SynonymousIP_Flood','DDoS-ICMP_Fragmentation','DDoS-UDP_Fragmentation','DDoS-ACK_Fragmentation','DDoS-HTTP_Flood','DDoS-SlowLoris'],'DDos',inplace=True)\n"
     ]
    }
   ],
   "source": [
    "output_file = 'combined_file_test.csv'\n",
    "df = pd.read_csv(output_file)\n",
    "change_label(df)"
   ]
  },
  {
   "cell_type": "code",
   "execution_count": 4,
   "id": "3657adca",
   "metadata": {},
   "outputs": [],
   "source": [
    "# Dividing the dataset into 2 parts for training and testing\n",
    "from sklearn.model_selection import train_test_split\n",
    "\n",
    "# Assuming 'df' is your pandas dataframe\n",
    "# Separate features (X) and target variable (y)\n",
    "features = df.drop('label', axis=1)  # Replace 'target_column_name' with your actual target column name\n",
    "target = df['label']\n",
    "\n",
    "# Split data into training and testing sets with 70% for training\n",
    "X_train, X_test, y_train, y_test = train_test_split(features, target, test_size=0.3, random_state=42)"
   ]
  },
  {
   "cell_type": "code",
   "execution_count": 5,
   "id": "c8faffe1",
   "metadata": {},
   "outputs": [
    {
     "data": {
      "text/html": [
       "<div>\n",
       "<style scoped>\n",
       "    .dataframe tbody tr th:only-of-type {\n",
       "        vertical-align: middle;\n",
       "    }\n",
       "\n",
       "    .dataframe tbody tr th {\n",
       "        vertical-align: top;\n",
       "    }\n",
       "\n",
       "    .dataframe thead th {\n",
       "        text-align: right;\n",
       "    }\n",
       "</style>\n",
       "<table border=\"1\" class=\"dataframe\">\n",
       "  <thead>\n",
       "    <tr style=\"text-align: right;\">\n",
       "      <th></th>\n",
       "      <th>flow_duration</th>\n",
       "      <th>Header_Length</th>\n",
       "      <th>Protocol Type</th>\n",
       "      <th>Duration</th>\n",
       "      <th>Rate</th>\n",
       "      <th>Srate</th>\n",
       "      <th>Drate</th>\n",
       "      <th>fin_flag_number</th>\n",
       "      <th>syn_flag_number</th>\n",
       "      <th>rst_flag_number</th>\n",
       "      <th>...</th>\n",
       "      <th>AVG</th>\n",
       "      <th>Std</th>\n",
       "      <th>Tot size</th>\n",
       "      <th>IAT</th>\n",
       "      <th>Number</th>\n",
       "      <th>Magnitue</th>\n",
       "      <th>Radius</th>\n",
       "      <th>Covariance</th>\n",
       "      <th>Variance</th>\n",
       "      <th>Weight</th>\n",
       "    </tr>\n",
       "  </thead>\n",
       "  <tbody>\n",
       "    <tr>\n",
       "      <th>0</th>\n",
       "      <td>0.000000</td>\n",
       "      <td>54.00</td>\n",
       "      <td>6.00</td>\n",
       "      <td>64.00</td>\n",
       "      <td>0.329807</td>\n",
       "      <td>0.329807</td>\n",
       "      <td>0.0</td>\n",
       "      <td>1.0</td>\n",
       "      <td>0.0</td>\n",
       "      <td>1.0</td>\n",
       "      <td>...</td>\n",
       "      <td>54.000000</td>\n",
       "      <td>0.000000</td>\n",
       "      <td>54.00</td>\n",
       "      <td>8.334383e+07</td>\n",
       "      <td>9.5</td>\n",
       "      <td>10.392305</td>\n",
       "      <td>0.000000</td>\n",
       "      <td>0.000000</td>\n",
       "      <td>0.00</td>\n",
       "      <td>141.55</td>\n",
       "    </tr>\n",
       "    <tr>\n",
       "      <th>1</th>\n",
       "      <td>0.000000</td>\n",
       "      <td>57.04</td>\n",
       "      <td>6.33</td>\n",
       "      <td>64.00</td>\n",
       "      <td>4.290556</td>\n",
       "      <td>4.290556</td>\n",
       "      <td>0.0</td>\n",
       "      <td>0.0</td>\n",
       "      <td>0.0</td>\n",
       "      <td>0.0</td>\n",
       "      <td>...</td>\n",
       "      <td>54.796404</td>\n",
       "      <td>2.822973</td>\n",
       "      <td>57.04</td>\n",
       "      <td>8.292607e+07</td>\n",
       "      <td>9.5</td>\n",
       "      <td>10.464666</td>\n",
       "      <td>4.010353</td>\n",
       "      <td>160.987842</td>\n",
       "      <td>0.05</td>\n",
       "      <td>141.55</td>\n",
       "    </tr>\n",
       "    <tr>\n",
       "      <th>2</th>\n",
       "      <td>0.000000</td>\n",
       "      <td>0.00</td>\n",
       "      <td>1.00</td>\n",
       "      <td>64.00</td>\n",
       "      <td>33.396799</td>\n",
       "      <td>33.396799</td>\n",
       "      <td>0.0</td>\n",
       "      <td>0.0</td>\n",
       "      <td>0.0</td>\n",
       "      <td>0.0</td>\n",
       "      <td>...</td>\n",
       "      <td>42.000000</td>\n",
       "      <td>0.000000</td>\n",
       "      <td>42.00</td>\n",
       "      <td>8.312799e+07</td>\n",
       "      <td>9.5</td>\n",
       "      <td>9.165151</td>\n",
       "      <td>0.000000</td>\n",
       "      <td>0.000000</td>\n",
       "      <td>0.00</td>\n",
       "      <td>141.55</td>\n",
       "    </tr>\n",
       "    <tr>\n",
       "      <th>3</th>\n",
       "      <td>0.328175</td>\n",
       "      <td>76175.00</td>\n",
       "      <td>17.00</td>\n",
       "      <td>64.00</td>\n",
       "      <td>4642.133010</td>\n",
       "      <td>4642.133010</td>\n",
       "      <td>0.0</td>\n",
       "      <td>0.0</td>\n",
       "      <td>0.0</td>\n",
       "      <td>0.0</td>\n",
       "      <td>...</td>\n",
       "      <td>50.000000</td>\n",
       "      <td>0.000000</td>\n",
       "      <td>50.00</td>\n",
       "      <td>8.301570e+07</td>\n",
       "      <td>9.5</td>\n",
       "      <td>10.000000</td>\n",
       "      <td>0.000000</td>\n",
       "      <td>0.000000</td>\n",
       "      <td>0.00</td>\n",
       "      <td>141.55</td>\n",
       "    </tr>\n",
       "    <tr>\n",
       "      <th>4</th>\n",
       "      <td>0.117320</td>\n",
       "      <td>101.73</td>\n",
       "      <td>6.11</td>\n",
       "      <td>65.91</td>\n",
       "      <td>6.202211</td>\n",
       "      <td>6.202211</td>\n",
       "      <td>0.0</td>\n",
       "      <td>0.0</td>\n",
       "      <td>1.0</td>\n",
       "      <td>0.0</td>\n",
       "      <td>...</td>\n",
       "      <td>67.959230</td>\n",
       "      <td>23.113111</td>\n",
       "      <td>57.88</td>\n",
       "      <td>8.297300e+07</td>\n",
       "      <td>9.5</td>\n",
       "      <td>11.346876</td>\n",
       "      <td>32.716243</td>\n",
       "      <td>3016.808286</td>\n",
       "      <td>0.19</td>\n",
       "      <td>141.55</td>\n",
       "    </tr>\n",
       "    <tr>\n",
       "      <th>...</th>\n",
       "      <td>...</td>\n",
       "      <td>...</td>\n",
       "      <td>...</td>\n",
       "      <td>...</td>\n",
       "      <td>...</td>\n",
       "      <td>...</td>\n",
       "      <td>...</td>\n",
       "      <td>...</td>\n",
       "      <td>...</td>\n",
       "      <td>...</td>\n",
       "      <td>...</td>\n",
       "      <td>...</td>\n",
       "      <td>...</td>\n",
       "      <td>...</td>\n",
       "      <td>...</td>\n",
       "      <td>...</td>\n",
       "      <td>...</td>\n",
       "      <td>...</td>\n",
       "      <td>...</td>\n",
       "      <td>...</td>\n",
       "      <td>...</td>\n",
       "    </tr>\n",
       "    <tr>\n",
       "      <th>732745</th>\n",
       "      <td>0.000000</td>\n",
       "      <td>54.00</td>\n",
       "      <td>6.00</td>\n",
       "      <td>64.00</td>\n",
       "      <td>9.917136</td>\n",
       "      <td>9.917136</td>\n",
       "      <td>0.0</td>\n",
       "      <td>0.0</td>\n",
       "      <td>1.0</td>\n",
       "      <td>0.0</td>\n",
       "      <td>...</td>\n",
       "      <td>54.000000</td>\n",
       "      <td>0.000000</td>\n",
       "      <td>54.00</td>\n",
       "      <td>8.336134e+07</td>\n",
       "      <td>9.5</td>\n",
       "      <td>10.392305</td>\n",
       "      <td>0.000000</td>\n",
       "      <td>0.000000</td>\n",
       "      <td>0.00</td>\n",
       "      <td>141.55</td>\n",
       "    </tr>\n",
       "    <tr>\n",
       "      <th>732746</th>\n",
       "      <td>0.000000</td>\n",
       "      <td>54.00</td>\n",
       "      <td>6.00</td>\n",
       "      <td>64.00</td>\n",
       "      <td>132.393870</td>\n",
       "      <td>132.393870</td>\n",
       "      <td>0.0</td>\n",
       "      <td>0.0</td>\n",
       "      <td>0.0</td>\n",
       "      <td>0.0</td>\n",
       "      <td>...</td>\n",
       "      <td>54.000000</td>\n",
       "      <td>0.000000</td>\n",
       "      <td>54.00</td>\n",
       "      <td>8.294316e+07</td>\n",
       "      <td>9.5</td>\n",
       "      <td>10.392305</td>\n",
       "      <td>0.000000</td>\n",
       "      <td>0.000000</td>\n",
       "      <td>0.00</td>\n",
       "      <td>141.55</td>\n",
       "    </tr>\n",
       "    <tr>\n",
       "      <th>732747</th>\n",
       "      <td>0.000000</td>\n",
       "      <td>54.00</td>\n",
       "      <td>6.00</td>\n",
       "      <td>64.00</td>\n",
       "      <td>0.589620</td>\n",
       "      <td>0.589620</td>\n",
       "      <td>0.0</td>\n",
       "      <td>0.0</td>\n",
       "      <td>1.0</td>\n",
       "      <td>0.0</td>\n",
       "      <td>...</td>\n",
       "      <td>54.000000</td>\n",
       "      <td>0.000000</td>\n",
       "      <td>54.00</td>\n",
       "      <td>8.308924e+07</td>\n",
       "      <td>9.5</td>\n",
       "      <td>10.392305</td>\n",
       "      <td>0.000000</td>\n",
       "      <td>0.000000</td>\n",
       "      <td>0.00</td>\n",
       "      <td>141.55</td>\n",
       "    </tr>\n",
       "    <tr>\n",
       "      <th>732748</th>\n",
       "      <td>0.067048</td>\n",
       "      <td>25725.00</td>\n",
       "      <td>17.00</td>\n",
       "      <td>64.00</td>\n",
       "      <td>9488.812264</td>\n",
       "      <td>9488.812264</td>\n",
       "      <td>0.0</td>\n",
       "      <td>0.0</td>\n",
       "      <td>0.0</td>\n",
       "      <td>0.0</td>\n",
       "      <td>...</td>\n",
       "      <td>50.000000</td>\n",
       "      <td>0.000000</td>\n",
       "      <td>50.00</td>\n",
       "      <td>8.348741e+07</td>\n",
       "      <td>9.5</td>\n",
       "      <td>10.000000</td>\n",
       "      <td>0.000000</td>\n",
       "      <td>0.000000</td>\n",
       "      <td>0.00</td>\n",
       "      <td>141.55</td>\n",
       "    </tr>\n",
       "    <tr>\n",
       "      <th>732749</th>\n",
       "      <td>0.000000</td>\n",
       "      <td>0.00</td>\n",
       "      <td>1.00</td>\n",
       "      <td>64.00</td>\n",
       "      <td>0.987534</td>\n",
       "      <td>0.987534</td>\n",
       "      <td>0.0</td>\n",
       "      <td>0.0</td>\n",
       "      <td>0.0</td>\n",
       "      <td>0.0</td>\n",
       "      <td>...</td>\n",
       "      <td>42.000000</td>\n",
       "      <td>0.000000</td>\n",
       "      <td>42.00</td>\n",
       "      <td>8.315070e+07</td>\n",
       "      <td>9.5</td>\n",
       "      <td>9.165151</td>\n",
       "      <td>0.000000</td>\n",
       "      <td>0.000000</td>\n",
       "      <td>0.00</td>\n",
       "      <td>141.55</td>\n",
       "    </tr>\n",
       "  </tbody>\n",
       "</table>\n",
       "<p>732750 rows × 46 columns</p>\n",
       "</div>"
      ],
      "text/plain": [
       "        flow_duration  Header_Length  Protocol Type  Duration         Rate  \\\n",
       "0            0.000000          54.00           6.00     64.00     0.329807   \n",
       "1            0.000000          57.04           6.33     64.00     4.290556   \n",
       "2            0.000000           0.00           1.00     64.00    33.396799   \n",
       "3            0.328175       76175.00          17.00     64.00  4642.133010   \n",
       "4            0.117320         101.73           6.11     65.91     6.202211   \n",
       "...               ...            ...            ...       ...          ...   \n",
       "732745       0.000000          54.00           6.00     64.00     9.917136   \n",
       "732746       0.000000          54.00           6.00     64.00   132.393870   \n",
       "732747       0.000000          54.00           6.00     64.00     0.589620   \n",
       "732748       0.067048       25725.00          17.00     64.00  9488.812264   \n",
       "732749       0.000000           0.00           1.00     64.00     0.987534   \n",
       "\n",
       "              Srate  Drate  fin_flag_number  syn_flag_number  rst_flag_number  \\\n",
       "0          0.329807    0.0              1.0              0.0              1.0   \n",
       "1          4.290556    0.0              0.0              0.0              0.0   \n",
       "2         33.396799    0.0              0.0              0.0              0.0   \n",
       "3       4642.133010    0.0              0.0              0.0              0.0   \n",
       "4          6.202211    0.0              0.0              1.0              0.0   \n",
       "...             ...    ...              ...              ...              ...   \n",
       "732745     9.917136    0.0              0.0              1.0              0.0   \n",
       "732746   132.393870    0.0              0.0              0.0              0.0   \n",
       "732747     0.589620    0.0              0.0              1.0              0.0   \n",
       "732748  9488.812264    0.0              0.0              0.0              0.0   \n",
       "732749     0.987534    0.0              0.0              0.0              0.0   \n",
       "\n",
       "        ...        AVG        Std  Tot size           IAT  Number   Magnitue  \\\n",
       "0       ...  54.000000   0.000000     54.00  8.334383e+07     9.5  10.392305   \n",
       "1       ...  54.796404   2.822973     57.04  8.292607e+07     9.5  10.464666   \n",
       "2       ...  42.000000   0.000000     42.00  8.312799e+07     9.5   9.165151   \n",
       "3       ...  50.000000   0.000000     50.00  8.301570e+07     9.5  10.000000   \n",
       "4       ...  67.959230  23.113111     57.88  8.297300e+07     9.5  11.346876   \n",
       "...     ...        ...        ...       ...           ...     ...        ...   \n",
       "732745  ...  54.000000   0.000000     54.00  8.336134e+07     9.5  10.392305   \n",
       "732746  ...  54.000000   0.000000     54.00  8.294316e+07     9.5  10.392305   \n",
       "732747  ...  54.000000   0.000000     54.00  8.308924e+07     9.5  10.392305   \n",
       "732748  ...  50.000000   0.000000     50.00  8.348741e+07     9.5  10.000000   \n",
       "732749  ...  42.000000   0.000000     42.00  8.315070e+07     9.5   9.165151   \n",
       "\n",
       "           Radius   Covariance  Variance  Weight  \n",
       "0        0.000000     0.000000      0.00  141.55  \n",
       "1        4.010353   160.987842      0.05  141.55  \n",
       "2        0.000000     0.000000      0.00  141.55  \n",
       "3        0.000000     0.000000      0.00  141.55  \n",
       "4       32.716243  3016.808286      0.19  141.55  \n",
       "...           ...          ...       ...     ...  \n",
       "732745   0.000000     0.000000      0.00  141.55  \n",
       "732746   0.000000     0.000000      0.00  141.55  \n",
       "732747   0.000000     0.000000      0.00  141.55  \n",
       "732748   0.000000     0.000000      0.00  141.55  \n",
       "732749   0.000000     0.000000      0.00  141.55  \n",
       "\n",
       "[732750 rows x 46 columns]"
      ]
     },
     "execution_count": 5,
     "metadata": {},
     "output_type": "execute_result"
    }
   ],
   "source": [
    "features"
   ]
  },
  {
   "cell_type": "code",
   "execution_count": 6,
   "id": "aba14226",
   "metadata": {},
   "outputs": [
    {
     "name": "stderr",
     "output_type": "stream",
     "text": [
      "C:\\Users\\Viet Anh Phan\\AppData\\Local\\Temp\\ipykernel_14172\\49653084.py:6: FutureWarning: Downcasting behavior in `replace` is deprecated and will be removed in a future version. To retain the old behavior, explicitly call `result.infer_objects(copy=False)`. To opt-in to the future behavior, set `pd.set_option('future.no_silent_downcasting', True)`\n",
      "  y_train = y_train.replace({'BENIGN': 0, 'DDos': 1,'DoS':2,'Mirai':3,'Spoofing':4,'Recon':5,'Web-based':6,'BruteForce':7})\n",
      "C:\\Users\\Viet Anh Phan\\AppData\\Local\\Temp\\ipykernel_14172\\49653084.py:7: FutureWarning: Downcasting behavior in `replace` is deprecated and will be removed in a future version. To retain the old behavior, explicitly call `result.infer_objects(copy=False)`. To opt-in to the future behavior, set `pd.set_option('future.no_silent_downcasting', True)`\n",
      "  y_test = y_test.replace({'BENIGN': 0, 'DDos': 1,'DoS':2,'Mirai':3,'Spoofing':4,'Recon':5,'Web-based':6,'BruteForce':7})\n"
     ]
    }
   ],
   "source": [
    "numeric_features = X_train.select_dtypes(include='number').columns\n",
    "# Scaling data\n",
    "X_train = scaleData(X_train, numeric_features)\n",
    "X_test = scaleData(X_test, numeric_features)\n",
    "# Setting the label to number to get through the feature selection. They only allow numeric data\n",
    "y_train = y_train.replace({'BENIGN': 0, 'DDos': 1,'DoS':2,'Mirai':3,'Spoofing':4,'Recon':5,'Web-based':6,'BruteForce':7})\n",
    "y_test = y_test.replace({'BENIGN': 0, 'DDos': 1,'DoS':2,'Mirai':3,'Spoofing':4,'Recon':5,'Web-based':6,'BruteForce':7})"
   ]
  },
  {
   "cell_type": "code",
   "execution_count": 7,
   "id": "37f9b442",
   "metadata": {},
   "outputs": [],
   "source": [
    "# Dividing data due to feature elimination with each methods\n",
    "# Random Forest Regression\n",
    "rf_features_5 = ['IAT', 'rst_count', 'flow_duration', 'Srate', 'Rate']\n",
    "rf_features_15 = ['IAT', 'rst_count', 'flow_duration', 'Srate', 'Rate', 'Weight', 'Header_Length', 'urg_count', 'Number', 'Duration', 'Protocol Type', 'syn_count', 'Min', 'Tot size', 'fin_count']\n",
    "rf_features_30 = ['IAT', 'rst_count', 'flow_duration', 'Srate', 'Rate', 'Weight', 'Header_Length', 'urg_count', 'Number', 'Duration', 'Protocol Type', 'syn_count', 'Min', 'Tot size', 'fin_count', 'Tot sum', 'HTTPS', 'Max', 'ack_count', 'Covariance', 'Magnitue', 'AVG', 'Std', 'Radius', 'HTTP', 'Variance', 'SSH', 'syn_flag_number', 'TCP', 'ack_flag_number']\n",
    "\n",
    "# Recursive Feature Elimination\n",
    "rfe_features_5 = ['flow_duration', 'Header_Length', 'Srate', 'rst_count', 'IAT']\n",
    "rfe_features_15 = ['flow_duration', 'Header_Length', 'Protocol Type', 'Duration', 'Srate', 'syn_count', 'fin_count', 'urg_count', 'rst_count', 'HTTPS', 'Min', 'Tot size', 'IAT', 'Covariance', 'Weight']\n",
    "rfe_features_30 = ['flow_duration', 'Header_Length', 'Protocol Type', 'Duration', 'Rate', 'Srate', 'syn_flag_number', 'psh_flag_number', 'ack_count', 'syn_count', 'fin_count', 'urg_count', 'rst_count', 'HTTP', 'HTTPS', 'SSH', 'UDP', 'Tot sum', 'Min', 'Max', 'AVG', 'Std', 'Tot size', 'IAT', 'Number', 'Magnitue', 'Radius', 'Covariance', 'Variance', 'Weight']\n",
    "\n",
    "# Logistic Regression\n",
    "lg_features_5 = ['Header_Length', 'Magnitue', 'Variance', 'Duration', 'Min']\n",
    "lg_features_15 = ['Header_Length', 'Magnitue', 'Variance', 'Duration', 'Min', 'Protocol Type', 'Tot sum', 'rst_count', 'TCP', 'AVG', 'syn_flag_number', 'fin_flag_number', 'ICMP', 'ack_flag_number', 'psh_flag_number']\n",
    "lg_features_30 = ['Header_Length', 'Magnitue', 'Variance', 'Duration', 'Min', 'Protocol Type', 'Tot sum', 'rst_count', 'TCP', 'AVG', 'syn_flag_number', 'fin_flag_number', 'ICMP', 'ack_flag_number', 'psh_flag_number', 'IPv', 'LLC', 'UDP', 'urg_count', 'HTTP', 'syn_count', 'rst_flag_number', 'Tot size', 'Radius', 'Std', 'HTTPS', 'Max', 'IAT', 'ack_count', 'Weight']\n",
    "\n",
    "# XGBoost Regression\n",
    "xg_features_5 = ['IAT', 'rst_count', 'Number', 'HTTPS', 'SSH']\n",
    "xg_features_15 = ['IAT', 'rst_count', 'Number', 'HTTPS', 'SSH', 'flow_duration', 'Weight', 'fin_count', 'Rate', 'HTTP', 'Tot sum', 'Header_Length', 'syn_count', 'Magnitue', 'UDP']\n",
    "xg_features_30 = ['IAT', 'rst_count', 'Number', 'HTTPS', 'SSH', 'flow_duration', 'Weight', 'fin_count', 'Rate', 'HTTP', 'Tot sum', 'Header_Length', 'syn_count', 'Magnitue', 'UDP', 'Min', 'urg_count', 'TCP', 'Protocol Type', 'Duration', 'ack_count', 'DNS', 'Tot size', 'Variance', 'AVG', 'Max', 'ack_flag_number', 'Covariance', 'Std', 'Radius']\n",
    "\n",
    "# Information Gain\n",
    "ig_features_5 = ['IAT', 'Tot size', 'Max', 'Magnitue', 'AVG']\n",
    "ig_features_15 = ['IAT', 'Tot size', 'Max', 'Magnitue', 'AVG', 'Tot sum', 'Min', 'Header_Length', 'Protocol Type', 'Number', 'Weight', 'Duration', 'flow_duration', 'Std', 'Radius']\n",
    "ig_features_30 = ['IAT', 'Tot size', 'Max', 'Magnitue', 'AVG', 'Tot sum', 'Min', 'Header_Length', 'Protocol Type', 'Number', 'Weight', 'Duration', 'flow_duration', 'Std', 'Radius', 'Covariance', 'rst_count', 'Variance', 'urg_count', 'Rate', 'Srate', 'TCP', 'syn_count', 'ack_flag_number', 'IPv', 'LLC', 'ICMP', 'HTTPS', 'ack_count', 'fin_count']"
   ]
  },
  {
   "cell_type": "code",
   "execution_count": 8,
   "id": "00a35319",
   "metadata": {},
   "outputs": [],
   "source": [
    "# Getting new dataset after deleting features\n",
    "# Random Forest\n",
    "X_train_rf_5 = X_train.loc[:, rf_features_5]\n",
    "X_train_rf_15 = X_train.loc[:, rf_features_15]\n",
    "X_train_rf_30 = X_train.loc[:, rf_features_30]\n",
    "\n",
    "\n",
    "# RFE\n",
    "X_train_rfe_5 = X_train.loc[:, rfe_features_5]\n",
    "X_train_rfe_15 = X_train.loc[:, rfe_features_15]\n",
    "X_train_rfe_30 = X_train.loc[:, rfe_features_30]\n",
    "\n",
    "\n",
    "# Logistic Regression\n",
    "X_train_lg_5 = X_train.loc[:, lg_features_5]\n",
    "X_train_lg_15 = X_train.loc[:, lg_features_15]\n",
    "X_train_lg_30 = X_train.loc[:, lg_features_30]\n",
    "\n",
    "\n",
    "# XGBoost\n",
    "X_train_xg_5 = X_train.loc[:, xg_features_5]\n",
    "X_train_xg_15 = X_train.loc[:, xg_features_15]\n",
    "X_train_xg_30 = X_train.loc[:, xg_features_30]\n",
    "\n",
    "\n",
    "# Information Gain\n",
    "X_train_ig_5 = X_train.loc[:, ig_features_5]\n",
    "X_train_ig_15 = X_train.loc[:, ig_features_15]\n",
    "X_train_ig_30 = X_train.loc[:, ig_features_30]"
   ]
  },
  {
   "cell_type": "code",
   "execution_count": 9,
   "id": "9a251deb",
   "metadata": {},
   "outputs": [],
   "source": [
    "# Getting new dataset after deleting features\n",
    "# Random Forest\n",
    "X_test_rf_5 = X_test.loc[:, rf_features_5]\n",
    "X_test_rf_15 = X_test.loc[:, rf_features_15]\n",
    "X_test_rf_30 = X_test.loc[:, rf_features_30]\n",
    "\n",
    "# RFE\n",
    "X_test_rfe_5 = X_test.loc[:, rfe_features_5]\n",
    "X_test_rfe_5 = X_test.loc[:, rfe_features_15]\n",
    "X_test_rfe_5 = X_test.loc[:, rfe_features_30]\n",
    "\n",
    "# Logistic Regression\n",
    "X_test_lg_5 = X_test.loc[:, lg_features_5]\n",
    "X_test_lg_15 = X_test.loc[:, lg_features_15]\n",
    "X_test_lg_30 = X_test.loc[:, lg_features_30]\n",
    "\n",
    "# XGBoost\n",
    "X_test_xg_5 = X_test.loc[:, xg_features_5]\n",
    "X_test_xg_15 = X_test.loc[:, xg_features_15]\n",
    "X_test_xg_30 = X_test.loc[:, xg_features_30]\n",
    "\n",
    "# Information Gain\n",
    "X_test_ig_5 = X_test.loc[:, ig_features_5]\n",
    "X_test_ig_15 = X_test.loc[:, ig_features_15]\n",
    "X_test_ig_30 = X_test.loc[:, ig_features_30]"
   ]
  },
  {
   "cell_type": "code",
   "execution_count": 34,
   "id": "cffd0739",
   "metadata": {},
   "outputs": [],
   "source": [
    "# Compute how much data is left after feature selection, for 5 selected features only\n",
    "import sys\n",
    "def compute_percentage_size(df1, df2):\n",
    "    \"\"\"\n",
    "    Compute the percentage that the size of df1 makes up of the size of df2.\n",
    "    \n",
    "    Parameters:\n",
    "    df1 (pandas.DataFrame): The first DataFrame.\n",
    "    df2 (pandas.DataFrame): The second DataFrame.\n",
    "    \n",
    "    Returns:\n",
    "    float: The percentage that the size of df1 makes up of the size of df2.\n",
    "    \"\"\"\n",
    "    size_1_bytes = df1.memory_usage(deep=True).sum()\n",
    "    size_2_bytes = df2.memory_usage(deep=True).sum()\n",
    "    \n",
    "    size_1_gb = size_1_bytes / (1024 ** 3)\n",
    "    size_2_gb = size_2_bytes / (1024 ** 3)\n",
    "    \n",
    "    if size_2_gb == 0:\n",
    "        raise ValueError(\"The size of the second dataset cannot be zero.\")\n",
    "    \n",
    "    percentage = (size_1_gb / size_2_gb) * 100\n",
    "    print(percentage)"
   ]
  },
  {
   "cell_type": "code",
   "execution_count": 37,
   "id": "8ac8abca",
   "metadata": {},
   "outputs": [
    {
     "name": "stdout",
     "output_type": "stream",
     "text": [
      "12.76595744680851\n",
      "34.04255319148936\n",
      "65.95744680851064\n",
      "12.76595744680851\n",
      "12.76595744680851\n"
     ]
    }
   ],
   "source": [
    "compute_percentage_size(X_train_ig_5, X_train)\n",
    "compute_percentage_size(X_train_rfe_15, X_train)\n",
    "compute_percentage_size(X_train_rf_30, X_train)\n",
    "compute_percentage_size(X_train_lg_5, X_train)\n",
    "compute_percentage_size(X_train_xg_5, X_train)"
   ]
  },
  {
   "cell_type": "markdown",
   "id": "d3faed33",
   "metadata": {},
   "source": [
    "# 3. Machine Learning algorithms"
   ]
  },
  {
   "cell_type": "code",
   "execution_count": 10,
   "id": "0cd6b5c8",
   "metadata": {},
   "outputs": [],
   "source": [
    "def DT(X_train, y_train, X_test, y_test):\n",
    "    \n",
    "    # Loading library\n",
    "    from sklearn.tree import DecisionTreeClassifier\n",
    "    \n",
    "    # Define the classifier with desired parameters (optional)\n",
    "    clf = DecisionTreeClassifier(max_depth=None, random_state=42)  # Adjust parameters as needed\n",
    "    \n",
    "    # Train the model on the training data\n",
    "    start_time = time.time()\n",
    "    clf.fit(X_train, y_train)\n",
    "    end_time = time.time()\n",
    "\n",
    "    # Calculate training time\n",
    "    training_time = end_time - start_time\n",
    "    \n",
    "    # Predicting the Test set results\n",
    "    y_pred = clf.predict(X_test)\n",
    "    \n",
    "    print(pd.crosstab(y_test, y_pred, rownames=['Actual attack'], colnames=['Predicted attack']))\n",
    "    \n",
    "    accuracy = accuracy_score(y_test, y_pred)\n",
    "    precision = precision_score(y_test, y_pred, average='weighted')  # Weighted average for multi-class\n",
    "    f1 = f1_score(y_test, y_pred, average='weighted')  # Weighted average for multi-class\n",
    "    recall = recall_score(y_test, y_pred, average='weighted')\n",
    "\n",
    "    print(\"Training Time:\", training_time, \"seconds\")\n",
    "    print(\"Accuracy:\", accuracy)\n",
    "    print(\"Precision:\", precision)\n",
    "    print(\"Recall: \", recall)\n",
    "    print(\"F1-score:\", f1)"
   ]
  },
  {
   "cell_type": "code",
   "execution_count": 11,
   "id": "49254e47",
   "metadata": {},
   "outputs": [],
   "source": [
    "def RF(X_train, y_train, X_test, y_test):\n",
    "    # Loading library\n",
    "    from sklearn.ensemble import RandomForestClassifier\n",
    "    \n",
    "    # Define the classifier with desired parameters (optional)\n",
    "    clf = RandomForestClassifier(n_estimators = 100, criterion = 'gini', random_state = 42)  # Adjust parameters as needed\n",
    "    \n",
    "    # Train the model on the training data\n",
    "    start_time = time.time()\n",
    "    clf.fit(X_train, y_train)\n",
    "    end_time = time.time()\n",
    "    \n",
    "    # Calculate training time\n",
    "    training_time = end_time - start_time\n",
    "    \n",
    "    # Predicting the Test set results\n",
    "    y_pred = clf.predict(X_test)\n",
    "    \n",
    "    print(pd.crosstab(y_test, y_pred, rownames=['Actual attack'], colnames=['Predicted attack']))\n",
    "    \n",
    "    accuracy = accuracy_score(y_test, y_pred)\n",
    "    precision = precision_score(y_test, y_pred, average='weighted')  # Weighted average for multi-class\n",
    "    f1 = f1_score(y_test, y_pred, average='weighted')  # Weighted average for multi-class\n",
    "    recall = recall_score(y_test, y_pred, average='weighted')\n",
    "    \n",
    "    print(\"Training Time:\", training_time, \"seconds\")\n",
    "    print(\"Accuracy:\", accuracy)\n",
    "    print(\"Precision:\", precision)\n",
    "    print(\"Recall: \", recall)\n",
    "    print(\"F1-score:\", f1)"
   ]
  },
  {
   "cell_type": "code",
   "execution_count": 12,
   "id": "6894a942",
   "metadata": {},
   "outputs": [],
   "source": [
    "def KNN(X_train, y_train, X_test, y_test):\n",
    "    # Loading library\n",
    "    from sklearn.neighbors import KNeighborsClassifier\n",
    "    \n",
    "    knn = KNeighborsClassifier(n_neighbors=5)\n",
    "    # Train the model on the training data\n",
    "    start_time = time.time()\n",
    "    knn.fit(X_train, y_train)\n",
    "    end_time = time.time()\n",
    "\n",
    "    # Calculate training time\n",
    "    training_time = end_time - start_time\n",
    "    y_pred = knn.predict(X_test.values)\n",
    "    \n",
    "    print(pd.crosstab(y_test, y_pred, rownames=['Actual attack'], colnames=['Predicted attack']))\n",
    "    \n",
    "    accuracy = accuracy_score(y_test, y_pred)\n",
    "    precision = precision_score(y_test, y_pred, average='weighted')  # Weighted average for multi-class\n",
    "    f1 = f1_score(y_test, y_pred, average='weighted')  # Weighted average for multi-class\n",
    "    recall = recall_score(y_test, y_pred, average='weighted')\n",
    "    \n",
    "    print(\"Training Time:\", training_time, \"seconds\")\n",
    "    print(\"Accuracy:\", accuracy)\n",
    "    print(\"Precision:\", precision)\n",
    "    print(\"Recall: \", recall)\n",
    "    print(\"F1-score:\", f1)"
   ]
  },
  {
   "cell_type": "code",
   "execution_count": 13,
   "id": "ca998ec6",
   "metadata": {},
   "outputs": [],
   "source": [
    "def GB(X_train, y_train, X_test, y_test):\n",
    "    # Loading library\n",
    "    from sklearn.ensemble import GradientBoostingClassifier\n",
    "    \n",
    "    # Create the Gradient Boosting Classifier\n",
    "    clf = GradientBoostingClassifier(n_estimators=100,  # Number of boosting stages\n",
    "                                learning_rate=0.1,  # Learning rate\n",
    "                                max_depth=3,        # Maximum depth of individual trees\n",
    "                                random_state=42)   # Set random seed for reproducibility\n",
    "    \n",
    "    # Train the model on the training data\n",
    "    start_time = time.time()\n",
    "    clf.fit(X_train, y_train)\n",
    "    end_time = time.time()\n",
    "    \n",
    "    # Calculate training time\n",
    "    training_time = end_time - start_time\n",
    "    # Predicting the Test set results\n",
    "    y_pred = clf.predict(X_test)\n",
    "    \n",
    "    \n",
    "    print(pd.crosstab(y_test, y_pred, rownames=['Actual attack'], colnames=['Predicted attack']))\n",
    "    \n",
    "    accuracy = accuracy_score(y_test, y_pred)\n",
    "    precision = precision_score(y_test, y_pred, average='weighted')  # Weighted average for multi-class\n",
    "    f1 = f1_score(y_test, y_pred, average='weighted')  # Weighted average for multi-class\n",
    "    recall = recall_score(y_test, y_pred, average='weighted')\n",
    "    \n",
    "    print(\"Training Time:\", training_time, \"seconds\")\n",
    "    print(\"Accuracy:\", accuracy)\n",
    "    print(\"Precision:\", precision)\n",
    "    print(\"Recall: \", recall)\n",
    "    print(\"F1-score:\", f1)"
   ]
  },
  {
   "cell_type": "code",
   "execution_count": 14,
   "id": "58e1b195",
   "metadata": {},
   "outputs": [],
   "source": [
    "def QDA(X_train, y_train, X_test, y_test):\n",
    "    from sklearn.discriminant_analysis import QuadraticDiscriminantAnalysis\n",
    "\n",
    "    # Create the Gradient Boosting Classifier\n",
    "    qda = QuadraticDiscriminantAnalysis()\n",
    "    \n",
    "    # Train the model on the training data\n",
    "    start_time = time.time()\n",
    "    qda.fit(X_train, y_train)\n",
    "    end_time = time.time()\n",
    "    \n",
    "    # Calculate training time\n",
    "    training_time = end_time - start_time\n",
    "    # Predicting the Test set results\n",
    "    y_pred = qda.predict(X_test)\n",
    "    \n",
    "    print(pd.crosstab(y_test, y_pred, rownames=['Actual attack'], colnames=['Predicted attack']))\n",
    "    \n",
    "    accuracy = accuracy_score(y_test, y_pred)\n",
    "    precision = precision_score(y_test, y_pred, average='weighted')  # Weighted average for multi-class\n",
    "    f1 = f1_score(y_test, y_pred, average='weighted')  # Weighted average for multi-class\n",
    "    recall = recall_score(y_test, y_pred, average='weighted')\n",
    "    \n",
    "    print(\"Training Time:\", training_time, \"seconds\")\n",
    "    print(\"Accuracy:\", accuracy)\n",
    "    print(\"Precision:\", precision)\n",
    "    print(\"Recall: \", recall)\n",
    "    print(\"F1-score:\", f1)"
   ]
  },
  {
   "cell_type": "code",
   "execution_count": 15,
   "id": "09e61c12",
   "metadata": {},
   "outputs": [],
   "source": [
    "def MLP(X_train, y_train, X_test, y_test):\n",
    "    from sklearn.neural_network import MLPClassifier\n",
    "    from sklearn.model_selection import train_test_split  # Optional for data splitting\n",
    "\n",
    "    # Hyperparameter tuning (adjust as needed)\n",
    "    solver = 'lbfgs'  # Solver for weight optimization (options: 'lbfgs', 'sgd', 'adam')\n",
    "    hidden_layer_sizes = (100, 50)  # Tuple representing the structure of hidden layers (number of neurons)\n",
    "    activation = 'relu'  # Activation function for hidden layers ('relu', 'tanh', 'logistic')\n",
    "    max_iter = 200  # Maximum number of training iterations\n",
    "\n",
    "    # Create the MLP classifier (adjust hyperparameters)\n",
    "    mlp = MLPClassifier(solver=solver, hidden_layer_sizes=hidden_layer_sizes, activation=activation, max_iter=max_iter)\n",
    "\n",
    "    # Train the model on the training data\n",
    "    start_time = time.time()\n",
    "    mlp.fit(X_train, y_train)\n",
    "    end_time = time.time()\n",
    "\n",
    "    # Calculate training time\n",
    "    training_time = end_time - start_time\n",
    "    # Make predictions on the test set\n",
    "    y_pred = mlp.predict(X_test)\n",
    "    \n",
    "    print(pd.crosstab(y_test, y_pred, rownames=['Actual attack'], colnames=['Predicted attack']))\n",
    "    \n",
    "    accuracy = accuracy_score(y_test, y_pred)\n",
    "    precision = precision_score(y_test, y_pred, average='weighted')  # Weighted average for multi-class\n",
    "    f1 = f1_score(y_test, y_pred, average='weighted')  # Weighted average for multi-class\n",
    "    recall = recall_score(y_test, y_pred, average='weighted')\n",
    "    \n",
    "    print(\"Training Time:\", training_time, \"seconds\")\n",
    "    print(\"Accuracy:\", accuracy)\n",
    "    print(\"Precision:\", precision)\n",
    "    print(\"Recall: \", recall)\n",
    "    print(\"F1-score:\", f1)"
   ]
  },
  {
   "cell_type": "code",
   "execution_count": 16,
   "id": "8a30c6a7",
   "metadata": {},
   "outputs": [],
   "source": [
    "def SVM(X_train, y_train, X_test, y_test):\n",
    "    from sklearn.svm import SVC\n",
    "\n",
    "    # Choose a multi-class strategy (e.g., 'ovr' or 'ovo')\n",
    "    multi_class = 'ovr'  # One-vs-Rest strategy\n",
    "\n",
    "    # Create the SVM classifier (adjust hyperparameters as needed)\n",
    "    svm_clf = SVC(kernel='linear', C=1.0, decision_function_shape='ovo')  # Adjust kernel and other parameters\n",
    "\n",
    "    # Train the model on the training data\n",
    "    start_time = time.time()\n",
    "    svm_clf.fit(X_train, y_train)\n",
    "    end_time = time.time()\n",
    "\n",
    "    # Calculate training time\n",
    "    training_time = end_time - start_time\n",
    "    # Make predictions on the test set\n",
    "    y_pred = svm_clf.predict(X_test)\n",
    "    \n",
    "    print(pd.crosstab(y_test, y_pred, rownames=['Actual attack'], colnames=['Predicted attack']))\n",
    "    \n",
    "    accuracy = accuracy_score(y_test, y_pred)\n",
    "    precision = precision_score(y_test, y_pred, average='weighted')  # Weighted average for multi-class\n",
    "    f1 = f1_score(y_test, y_pred, average='weighted')  # Weighted average for multi-class\n",
    "    recall = recall_score(y_test, y_pred, average='weighted')\n",
    "    \n",
    "    print(\"Training Time:\", training_time, \"seconds\")\n",
    "    print(\"Accuracy:\", accuracy)\n",
    "    print(\"Precision:\", precision)\n",
    "    print(\"Recall: \", recall)\n",
    "    print(\"F1-score:\", f1)"
   ]
  },
  {
   "cell_type": "markdown",
   "id": "10f4d3ec",
   "metadata": {},
   "source": [
    "# 4. Training without selecting features"
   ]
  },
  {
   "cell_type": "code",
   "execution_count": 17,
   "id": "0fb6a4da",
   "metadata": {},
   "outputs": [
    {
     "name": "stdout",
     "output_type": "stream",
     "text": [
      "Predicted attack     0       1      2      3     4    5   6   7\n",
      "Actual attack                                                  \n",
      "0                 4329     138     76     81   260  243   6   7\n",
      "1                    0  159884      6      5     1    9   0   0\n",
      "2                    0       8  38032      1     2    0   0   0\n",
      "3                    1       0      0  12560     1    1   0   0\n",
      "4                  156      95     70    295  1663   65   9   0\n",
      "5                   99     326     64    101    68  985  10   3\n",
      "6                    4      21      5      9     7    7  56   0\n",
      "7                    5       8      8      3     8    1   0  23\n",
      "Accuracy: 0.9895689753212783\n",
      "Precision: 0.9887955608440084\n",
      "Recall:  0.9895689753212783\n",
      "F1-score: 0.9889569895318405\n"
     ]
    }
   ],
   "source": [
    "# Decision Tree without feature selection\n",
    "DT(X_train, y_train, X_test, y_test)"
   ]
  },
  {
   "cell_type": "code",
   "execution_count": 18,
   "id": "f70fed2f",
   "metadata": {},
   "outputs": [
    {
     "name": "stdout",
     "output_type": "stream",
     "text": [
      "Predicted attack     0       1      2      3     4     5  6   7\n",
      "Actual attack                                                  \n",
      "0                 4938       0      0      0   123    79  0   0\n",
      "1                    0  159872     20      0     1    12  0   0\n",
      "2                    0      21  38019      1     2     0  0   0\n",
      "3                    0       9      2  12552     0     0  0   0\n",
      "4                  266       1      0      0  2000    86  0   0\n",
      "5                  208      30      0      0   132  1286  0   0\n",
      "6                   24       0      0      0    54    26  5   0\n",
      "7                   11       0      0      0    12    19  0  14\n",
      "Accuracy: 0.9948186057090868\n",
      "Precision: 0.9948316424434516\n",
      "Recall:  0.9948186057090868\n",
      "F1-score: 0.9945198526065532\n"
     ]
    }
   ],
   "source": [
    "# Random Forest without feature selection\n",
    "RF(X_train, y_train, X_test, y_test)"
   ]
  },
  {
   "cell_type": "code",
   "execution_count": 19,
   "id": "8952b79e",
   "metadata": {},
   "outputs": [
    {
     "name": "stderr",
     "output_type": "stream",
     "text": [
      "c:\\Users\\Viet Anh Phan\\AppData\\Local\\Programs\\Python\\Python311\\Lib\\site-packages\\sklearn\\base.py:493: UserWarning: X does not have valid feature names, but KNeighborsClassifier was fitted with feature names\n",
      "  warnings.warn(\n"
     ]
    },
    {
     "name": "stdout",
     "output_type": "stream",
     "text": [
      "Predicted attack     0       1      2      3     4    5   6  7\n",
      "Actual attack                                                 \n",
      "0                 4584       1      0      0   347  196  10  2\n",
      "1                    2  156352   3520     12     1   18   0  0\n",
      "2                    1   11129  26890      6     1   16   0  0\n",
      "3                    0      62      8  12488     0    5   0  0\n",
      "4                  906       4      2      0  1346   95   0  0\n",
      "5                  607      41     24      2   126  852   4  0\n",
      "6                   64       0      0      0    19   24   2  0\n",
      "7                   30       0      0      0    11    6   0  9\n",
      "Accuracy: 0.9212919367678836\n",
      "Precision: 0.9192157446493204\n",
      "Recall:  0.9212919367678836\n",
      "F1-score: 0.9177271284380387\n"
     ]
    }
   ],
   "source": [
    "# KNN without feature selection\n",
    "KNN(X_train, y_train, X_test, y_test)"
   ]
  },
  {
   "cell_type": "code",
   "execution_count": 20,
   "id": "4de71299",
   "metadata": {},
   "outputs": [],
   "source": [
    "# GB without feature selection\n",
    "GB(X_train, y_train, X_test, y_test)"
   ]
  },
  {
   "cell_type": "code",
   "execution_count": null,
   "id": "958fe58d",
   "metadata": {},
   "outputs": [
    {
     "name": "stderr",
     "output_type": "stream",
     "text": [
      "C:\\Users\\Viet Anh Phan\\AppData\\Roaming\\Python\\Python311\\site-packages\\sklearn\\discriminant_analysis.py:926: UserWarning: Variables are collinear\n",
      "  warnings.warn(\"Variables are collinear\")\n"
     ]
    },
    {
     "name": "stdout",
     "output_type": "stream",
     "text": [
      "Predicted attack      0    1   2   3      4      5  7\n",
      "Actual attack                                        \n",
      "0                  4995    0   0   0    126     19  0\n",
      "1                 45120  433  21   3  58998  55330  0\n",
      "2                 15745   34  13  12  12632   9607  0\n",
      "3                  1701    0   0   5  10857      0  0\n",
      "4                  1564    0   0   0    769     20  0\n",
      "5                   825    0   0   0    340    491  0\n",
      "6                    81    0   0   0     25      3  0\n",
      "7                    41    0   0   0      6      0  9\n",
      "Accuracy: 0.03054702604344365\n",
      "Precision: 0.7569936088113675\n",
      "Recall:  0.03054702604344365\n",
      "F1-score: 0.007569291692961416\n"
     ]
    },
    {
     "name": "stderr",
     "output_type": "stream",
     "text": [
      "C:\\Users\\Viet Anh Phan\\AppData\\Roaming\\Python\\Python311\\site-packages\\sklearn\\metrics\\_classification.py:1344: UndefinedMetricWarning: Precision is ill-defined and being set to 0.0 in labels with no predicted samples. Use `zero_division` parameter to control this behavior.\n",
      "  _warn_prf(average, modifier, msg_start, len(result))\n"
     ]
    }
   ],
   "source": [
    "# QDA without feature selection\n",
    "QDA(X_train, y_train, X_test, y_test)"
   ]
  },
  {
   "cell_type": "code",
   "execution_count": null,
   "id": "f4d704d2",
   "metadata": {},
   "outputs": [
    {
     "name": "stderr",
     "output_type": "stream",
     "text": [
      "C:\\Users\\Viet Anh Phan\\AppData\\Roaming\\Python\\Python311\\site-packages\\sklearn\\neural_network\\_multilayer_perceptron.py:541: ConvergenceWarning: lbfgs failed to converge (status=1):\n",
      "STOP: TOTAL NO. of ITERATIONS REACHED LIMIT.\n",
      "\n",
      "Increase the number of iterations (max_iter) or scale the data as shown in:\n",
      "    https://scikit-learn.org/stable/modules/preprocessing.html\n",
      "  self.n_iter_ = _check_optimize_result(\"lbfgs\", opt_res, self.max_iter)\n"
     ]
    },
    {
     "name": "stdout",
     "output_type": "stream",
     "text": [
      "Predicted attack     0       1     2      3    4    5\n",
      "Actual attack                                        \n",
      "0                 4513      13     1      1  494  118\n",
      "1                   24  156831  3034      2    9    5\n",
      "2                   12   30257  7750      3    9   12\n",
      "3                   15     101    15  12426    6    0\n",
      "4                 1272      10    28     46  959   38\n",
      "5                  718     127   103      0  116  592\n",
      "6                   75       0     0      2   22   10\n",
      "7                   39       0     0      0   13    4\n",
      "Accuracy: 0.8328033663141134\n",
      "Precision: 0.8164168418262238\n",
      "Recall:  0.8328033663141134\n",
      "F1-score: 0.7952508636017652\n"
     ]
    },
    {
     "name": "stderr",
     "output_type": "stream",
     "text": [
      "C:\\Users\\Viet Anh Phan\\AppData\\Roaming\\Python\\Python311\\site-packages\\sklearn\\metrics\\_classification.py:1344: UndefinedMetricWarning: Precision is ill-defined and being set to 0.0 in labels with no predicted samples. Use `zero_division` parameter to control this behavior.\n",
      "  _warn_prf(average, modifier, msg_start, len(result))\n"
     ]
    }
   ],
   "source": [
    "# MLP without feature selection\n",
    "MLP(X_train, y_train, X_test, y_test)"
   ]
  },
  {
   "cell_type": "code",
   "execution_count": null,
   "id": "905696d6",
   "metadata": {},
   "outputs": [],
   "source": [
    "# SVM without feature selection\n",
    "SVM(X_train, y_train, X_test, y_test)"
   ]
  },
  {
   "cell_type": "markdown",
   "id": "85ff78b6",
   "metadata": {},
   "source": [
    "# 5. 5 selected features"
   ]
  },
  {
   "cell_type": "markdown",
   "id": "72cdd9e5",
   "metadata": {},
   "source": [
    "## 5.1 Decision Tree"
   ]
  },
  {
   "cell_type": "code",
   "execution_count": 17,
   "id": "c7c5794e",
   "metadata": {},
   "outputs": [
    {
     "name": "stdout",
     "output_type": "stream",
     "text": [
      "Predicted attack     0       1      2      3     4     5   6   7\n",
      "Actual attack                                                   \n",
      "0                 3716      14      1      2   887   467  39  14\n",
      "1                    1  159830     50      0     1    22   1   0\n",
      "2                    0       6  38032      0     1     4   0   0\n",
      "3                    0      53      1  12489    20     0   0   0\n",
      "4                  459       4      0      0  1689   164  26  11\n",
      "5                  270      13      1      5   233  1104  19  11\n",
      "6                   22       1      0      0    19     8  59   0\n",
      "7                    8       1      0      0    14     6   1  26\n",
      "Training Time: 0.4009745121002197 seconds\n",
      "Accuracy: 0.9868986693961106\n",
      "Precision: 0.9876572442749527\n",
      "Recall:  0.9868986693961106\n",
      "F1-score: 0.9871129238422957\n"
     ]
    }
   ],
   "source": [
    "# Decision Tree with 5 selected features\n",
    "X_test_ig_5 = X_test.loc[:, ig_features_5]\n",
    "DT(X_train_ig_5, y_train, X_test_ig_5, y_test)"
   ]
  },
  {
   "cell_type": "code",
   "execution_count": 18,
   "id": "27a2d470",
   "metadata": {},
   "outputs": [
    {
     "name": "stdout",
     "output_type": "stream",
     "text": [
      "Predicted attack     0       1      2      3     4     5   6   7\n",
      "Actual attack                                                   \n",
      "0                 4557       2      0      0   290   264  15  12\n",
      "1                    0  159865      9     13     4    14   0   0\n",
      "2                    2       9  38030      1     1     0   0   0\n",
      "3                    2      25      1  12528     7     0   0   0\n",
      "4                  271       4      0      0  1923   119  29   7\n",
      "5                  172      12      0      0   125  1319  18  10\n",
      "6                   10       1      0      0    15    17  63   3\n",
      "7                   15       0      0      0     7     5   3  26\n",
      "Training Time: 0.8076374530792236 seconds\n",
      "Accuracy: 0.9931127032867053\n",
      "Precision: 0.9932204218413225\n",
      "Recall:  0.9931127032867053\n",
      "F1-score: 0.9931587222434798\n"
     ]
    }
   ],
   "source": [
    "# Decision Tree with 5 selected features\n",
    "X_test_rfe_5 = X_test.loc[:, rfe_features_5]\n",
    "DT(X_train_rfe_5, y_train, X_test_rfe_5, y_test)"
   ]
  },
  {
   "cell_type": "code",
   "execution_count": 19,
   "id": "4b71a959",
   "metadata": {},
   "outputs": [
    {
     "name": "stdout",
     "output_type": "stream",
     "text": [
      "Predicted attack     0       1      2      3     4     5   6   7\n",
      "Actual attack                                                   \n",
      "0                 4517       1      0      0   305   283  14  20\n",
      "1                    0  159854     12     22     4    13   0   0\n",
      "2                    1       7  38029      2     2     1   1   0\n",
      "3                    2      29      0  12522     7     3   0   0\n",
      "4                  314       4      1      0  1832   167  28   7\n",
      "5                  184      23      0      2   143  1268  29   7\n",
      "6                    7       0      0      0    16    20  64   2\n",
      "7                   12       0      0      1     7     9   1  26\n",
      "Training Time: 1.0136735439300537 seconds\n",
      "Accuracy: 0.9922074377345615\n",
      "Precision: 0.9923456388236475\n",
      "Recall:  0.9922074377345615\n",
      "F1-score: 0.9922646119626849\n"
     ]
    }
   ],
   "source": [
    "# Decision Tree with 5 selected features\n",
    "X_test_rf_5 = X_test.loc[:, rf_features_5]\n",
    "DT(X_train_rf_5, y_train, X_test_rf_5, y_test)"
   ]
  },
  {
   "cell_type": "code",
   "execution_count": 20,
   "id": "621bd3a8",
   "metadata": {},
   "outputs": [
    {
     "name": "stdout",
     "output_type": "stream",
     "text": [
      "Predicted attack     0       1      2     3     4    5   6   7\n",
      "Actual attack                                                 \n",
      "0                 3514      43     26     3   985  455  76  38\n",
      "1                   58  122004  37693    43    38   68   0   1\n",
      "2                   27   16468  21415    31    23   79   0   0\n",
      "3                    9      61   3930  8540     9   13   1   0\n",
      "4                  855      32     31     9  1152  227  34  13\n",
      "5                  471      75    106    22   221  720  26  15\n",
      "6                   37       3      2     0    32   28   6   1\n",
      "7                   18       0      4     0    11   16   5   2\n",
      "Training Time: 1.099799394607544 seconds\n",
      "Accuracy: 0.7158103036506311\n",
      "Precision: 0.7798557313202943\n",
      "Recall:  0.7158103036506311\n",
      "F1-score: 0.7383650370421545\n"
     ]
    }
   ],
   "source": [
    "# Decision Tree with 5 selected features\n",
    "X_test_lg_5 = X_test.loc[:, lg_features_5]\n",
    "DT(X_train_lg_5, y_train, X_test_lg_5, y_test)"
   ]
  },
  {
   "cell_type": "code",
   "execution_count": 21,
   "id": "961aacb2",
   "metadata": {},
   "outputs": [
    {
     "name": "stdout",
     "output_type": "stream",
     "text": [
      "Predicted attack     0       1      2      3     4     5   6   7\n",
      "Actual attack                                                   \n",
      "0                 4288      29     98      0   372   336  13   4\n",
      "1                    0  159845     10     50     0     0   0   0\n",
      "2                    1       7  38022     11     1     1   0   0\n",
      "3                    2      28      3  12530     0     0   0   0\n",
      "4                  506      56    267      0  1347   175   1   1\n",
      "5                  199     222    147      0    33  1052   3   0\n",
      "6                   13       8     13      0     0    17  58   0\n",
      "7                   10       0      8      0     1    11   0  26\n",
      "Training Time: 0.23443365097045898 seconds\n",
      "Accuracy: 0.9879131127032867\n",
      "Precision: 0.9870858105085002\n",
      "Recall:  0.9879131127032867\n",
      "F1-score: 0.9873086740447191\n"
     ]
    }
   ],
   "source": [
    "# Decision Tree with 5 selected features\n",
    "X_test_xg_5 = X_test.loc[:, xg_features_5]\n",
    "DT(X_train_xg_5, y_train, X_test_xg_5, y_test)"
   ]
  },
  {
   "cell_type": "markdown",
   "id": "eaf93ffb",
   "metadata": {},
   "source": [
    "## 5.2 Random Forest"
   ]
  },
  {
   "cell_type": "code",
   "execution_count": 38,
   "id": "4f303dc4",
   "metadata": {},
   "outputs": [
    {
     "name": "stdout",
     "output_type": "stream",
     "text": [
      "Predicted attack     0       1      2      3     4     5   6   7\n",
      "Actual attack                                                   \n",
      "0                 4350       0      0      0   717    71   2   0\n",
      "1                    1  159806     82      0     2    14   0   0\n",
      "2                    0       2  38037      0     2     2   0   0\n",
      "3                    0      53      3  12487    20     0   0   0\n",
      "4                  659       0      1      0  1661    32   0   0\n",
      "5                  352       6      0      3   169  1126   0   0\n",
      "6                   30       0      0      0    24     8  47   0\n",
      "7                   16       0      0      0    12     2   0  26\n",
      "Training Time: 19.49922776222229 seconds\n",
      "Accuracy: 0.9896053679062891\n",
      "Precision: 0.9900651899391\n",
      "Recall:  0.9896053679062891\n",
      "F1-score: 0.9896158839275475\n"
     ]
    }
   ],
   "source": [
    "# RF with 5 selected features\n",
    "RF(X_train_ig_5, y_train, X_test_ig_5, y_test)"
   ]
  },
  {
   "cell_type": "code",
   "execution_count": 39,
   "id": "5728abda",
   "metadata": {},
   "outputs": [
    {
     "name": "stdout",
     "output_type": "stream",
     "text": [
      "Predicted attack     0       1      2      3     4     5   6   7\n",
      "Actual attack                                                   \n",
      "0                 4840       1      0      0   154   145   0   0\n",
      "1                    0  159870      9     19     2     5   0   0\n",
      "2                    0       7  38034      0     2     0   0   0\n",
      "3                    0      25      3  12528     7     0   0   0\n",
      "4                  288       1      0      0  1940   122   0   2\n",
      "5                  195      13      1      0    96  1345   6   0\n",
      "6                   12       0      0      0    23    29  45   0\n",
      "7                   14       0      0      0     6    10   0  26\n",
      "Training Time: 25.503950357437134 seconds\n",
      "Accuracy: 0.9945547594677584\n",
      "Precision: 0.9945322398999464\n",
      "Recall:  0.9945547594677584\n",
      "F1-score: 0.9944664634641049\n"
     ]
    }
   ],
   "source": [
    "# RF with 5 selected features\n",
    "X_test_rfe_5 = X_test.loc[:, rfe_features_5]\n",
    "RF(X_train_rfe_5, y_train, X_test_rfe_5, y_test)"
   ]
  },
  {
   "cell_type": "code",
   "execution_count": 40,
   "id": "382e6c51",
   "metadata": {},
   "outputs": [
    {
     "name": "stdout",
     "output_type": "stream",
     "text": [
      "Predicted attack     0       1      2      3     4     5   6   7\n",
      "Actual attack                                                   \n",
      "0                 4808       1      0      1   176   154   0   0\n",
      "1                    0  159858     16     14     4    13   0   0\n",
      "2                    0      10  38028      2     3     0   0   0\n",
      "3                    1      38      5  12511     5     3   0   0\n",
      "4                  317       3      1      0  1896   132   3   1\n",
      "5                  202      28      1      1   134  1286   4   0\n",
      "6                   12       0      0      0    18    30  48   1\n",
      "7                    9       0      0      1    11     9   0  26\n",
      "Training Time: 28.179960012435913 seconds\n",
      "Accuracy: 0.9937950642556579\n",
      "Precision: 0.9937477574581537\n",
      "Recall:  0.9937950642556579\n",
      "F1-score: 0.9937026321600602\n"
     ]
    }
   ],
   "source": [
    "# RF with 5 selected features\n",
    "X_test_rf_5 = X_test.loc[:, rf_features_5]\n",
    "RF(X_train_rf_5, y_train, X_test_rf_5, y_test)"
   ]
  },
  {
   "cell_type": "code",
   "execution_count": 41,
   "id": "d6fd4bd2",
   "metadata": {},
   "outputs": [
    {
     "name": "stdout",
     "output_type": "stream",
     "text": [
      "Predicted attack     0       1      2      3     4    5  6\n",
      "Actual attack                                             \n",
      "0                 4464      13     13      0   427  217  6\n",
      "1                   56  142020  17745     25    15   44  0\n",
      "2                   22   21041  16925      8    12   35  0\n",
      "3                    9      62     21  12452     9   10  0\n",
      "4                 1038      14     24      3  1137  137  0\n",
      "5                  618      73     71      9   139  742  4\n",
      "6                   64       2      0      0    24   19  0\n",
      "7                   31       1      4      0     5   15  0\n",
      "Training Time: 39.203415632247925 seconds\n",
      "Accuracy: 0.808552257477539\n",
      "Precision: 0.8020515168005034\n",
      "Recall:  0.808552257477539\n",
      "F1-score: 0.8046709784176413\n"
     ]
    },
    {
     "name": "stderr",
     "output_type": "stream",
     "text": [
      "c:\\Users\\Viet Anh Phan\\AppData\\Local\\Programs\\Python\\Python311\\Lib\\site-packages\\sklearn\\metrics\\_classification.py:1517: UndefinedMetricWarning: Precision is ill-defined and being set to 0.0 in labels with no predicted samples. Use `zero_division` parameter to control this behavior.\n",
      "  _warn_prf(average, modifier, f\"{metric.capitalize()} is\", len(result))\n"
     ]
    }
   ],
   "source": [
    "# RF with 5 selected features\n",
    "X_test_lg_5 = X_test.loc[:, lg_features_5]\n",
    "RF(X_train_lg_5, y_train, X_test_lg_5, y_test)"
   ]
  },
  {
   "cell_type": "code",
   "execution_count": 42,
   "id": "ec5cda18",
   "metadata": {},
   "outputs": [
    {
     "name": "stdout",
     "output_type": "stream",
     "text": [
      "Predicted attack     0       1      2      3     4     5   6   7\n",
      "Actual attack                                                   \n",
      "0                 4338      28     20     14   447   267  21   5\n",
      "1                    0  159836      2     67     0     0   0   0\n",
      "2                    1       8  38022     12     0     0   0   0\n",
      "3                    0      34      4  12525     0     0   0   0\n",
      "4                  557      42     18    194  1418   116   7   1\n",
      "5                  257     146     28     47   100  1074   4   0\n",
      "6                   18       6      3      4     7    15  56   0\n",
      "7                   16       0      1      1     5     3   0  30\n",
      "Training Time: 12.527245044708252 seconds\n",
      "Accuracy: 0.9885090412828387\n",
      "Precision: 0.9878246992636307\n",
      "Recall:  0.9885090412828387\n",
      "F1-score: 0.9880761358319811\n"
     ]
    }
   ],
   "source": [
    "# RF with 5 selected features\n",
    "X_test_xg_5 = X_test.loc[:, xg_features_5]\n",
    "RF(X_train_xg_5, y_train, X_test_xg_5, y_test)"
   ]
  },
  {
   "cell_type": "markdown",
   "id": "027a9527",
   "metadata": {},
   "source": [
    "## 5.3 K-NN"
   ]
  },
  {
   "cell_type": "code",
   "execution_count": 43,
   "id": "fb9a3398",
   "metadata": {},
   "outputs": [
    {
     "name": "stderr",
     "output_type": "stream",
     "text": [
      "c:\\Users\\Viet Anh Phan\\AppData\\Local\\Programs\\Python\\Python311\\Lib\\site-packages\\sklearn\\base.py:493: UserWarning: X does not have valid feature names, but KNeighborsClassifier was fitted with feature names\n",
      "  warnings.warn(\n"
     ]
    },
    {
     "name": "stdout",
     "output_type": "stream",
     "text": [
      "Predicted attack     0       1      2   3     4    5  6  7\n",
      "Actual attack                                             \n",
      "0                 3764       0      0   0  1235  132  6  3\n",
      "1                   13  154717   5156  12     2    5  0  0\n",
      "2                    2     664  37362  12     1    2  0  0\n",
      "3                   15   12247    210  85     6    0  0  0\n",
      "4                 1413       0      2   0   869   66  2  1\n",
      "5                  835      98     48   9   233  431  2  0\n",
      "6                   80       0      0   0    19    5  5  0\n",
      "7                   41       0      0   0    12    3  0  0\n",
      "Training Time: 0.41422152519226074 seconds\n",
      "Accuracy: 0.8972273399294893\n",
      "Precision: 0.8867179100001988\n",
      "Recall:  0.8972273399294893\n",
      "F1-score: 0.8701583752122565\n"
     ]
    }
   ],
   "source": [
    "# KNN with 5 selected features\n",
    "KNN(X_train_ig_5, y_train, X_test_ig_5, y_test)"
   ]
  },
  {
   "cell_type": "code",
   "execution_count": 44,
   "id": "6c6d46cf",
   "metadata": {},
   "outputs": [
    {
     "name": "stderr",
     "output_type": "stream",
     "text": [
      "c:\\Users\\Viet Anh Phan\\AppData\\Local\\Programs\\Python\\Python311\\Lib\\site-packages\\sklearn\\base.py:493: UserWarning: X does not have valid feature names, but KNeighborsClassifier was fitted with feature names\n",
      "  warnings.warn(\n"
     ]
    },
    {
     "name": "stdout",
     "output_type": "stream",
     "text": [
      "Predicted attack     0       1      2      3     4     5   6  7\n",
      "Actual attack                                                  \n",
      "0                 4789       1      2      0   226   119   2  1\n",
      "1                    1  159777     81     22     5    19   0  0\n",
      "2                    1     122  37899     13     0     8   0  0\n",
      "3                    0      76      7  12469     7     4   0  0\n",
      "4                  844       5      0      1  1349   146   6  2\n",
      "5                  412      47      1      2   179  1011   4  0\n",
      "6                   27       0      0      0    28    30  24  0\n",
      "7                   24       0      0      0    19    11   1  1\n",
      "Training Time: 0.4629685878753662 seconds\n",
      "Accuracy: 0.9886000227453656\n",
      "Precision: 0.9882635799032875\n",
      "Recall:  0.9886000227453656\n",
      "F1-score: 0.9880351031712151\n"
     ]
    }
   ],
   "source": [
    "# KNN with 5 selected features\n",
    "X_test_rfe_5 = X_test.loc[:, rfe_features_5]\n",
    "KNN(X_train_rfe_5, y_train, X_test_rfe_5, y_test)"
   ]
  },
  {
   "cell_type": "code",
   "execution_count": 45,
   "id": "1bdcda56",
   "metadata": {},
   "outputs": [
    {
     "name": "stderr",
     "output_type": "stream",
     "text": [
      "c:\\Users\\Viet Anh Phan\\AppData\\Local\\Programs\\Python\\Python311\\Lib\\site-packages\\sklearn\\base.py:493: UserWarning: X does not have valid feature names, but KNeighborsClassifier was fitted with feature names\n",
      "  warnings.warn(\n"
     ]
    },
    {
     "name": "stdout",
     "output_type": "stream",
     "text": [
      "Predicted attack     0       1      2      3     4    5   6  7\n",
      "Actual attack                                                 \n",
      "0                 4788       1      0      0   246  103   0  2\n",
      "1                    1  159786     64     18     6   30   0  0\n",
      "2                    0      87  37944      3     2    7   0  0\n",
      "3                    0      78      3  12470     3    9   0  0\n",
      "4                  899       4      2      5  1261  172   4  6\n",
      "5                  364      56      1      1   250  978   5  1\n",
      "6                   23       0      0      0    36   26  24  0\n",
      "7                   17       0      0      0    25   12   2  0\n",
      "Training Time: 0.4237635135650635 seconds\n",
      "Accuracy: 0.9882906857727738\n",
      "Precision: 0.987767952624124\n",
      "Recall:  0.9882906857727738\n",
      "F1-score: 0.9876657314149838\n"
     ]
    }
   ],
   "source": [
    "# KNN with 5 selected features\n",
    "X_test_rf_5 = X_test.loc[:, rf_features_5]\n",
    "KNN(X_train_rf_5, y_train, X_test_rf_5, y_test)"
   ]
  },
  {
   "cell_type": "code",
   "execution_count": 46,
   "id": "79895696",
   "metadata": {},
   "outputs": [
    {
     "name": "stderr",
     "output_type": "stream",
     "text": [
      "c:\\Users\\Viet Anh Phan\\AppData\\Local\\Programs\\Python\\Python311\\Lib\\site-packages\\sklearn\\base.py:493: UserWarning: X does not have valid feature names, but KNeighborsClassifier was fitted with feature names\n",
      "  warnings.warn(\n"
     ]
    },
    {
     "name": "stdout",
     "output_type": "stream",
     "text": [
      "Predicted attack     0      1      2      3    4    5   6  7\n",
      "Actual attack                                               \n",
      "0                 4348     35     23      3  470  242  12  7\n",
      "1                  120  77565  82107     23   22   68   0  0\n",
      "2                   81  14649  23243     12    6   52   0  0\n",
      "3                   33     58     24  12426   12   10   0  0\n",
      "4                 1298     41     34      6  845  127   1  1\n",
      "5                  683     71     82      7  137  674   1  1\n",
      "6                   76      1      0      0   13   19   0  0\n",
      "7                   31      0      4      0    6   15   0  0\n",
      "Training Time: 0.40781235694885254 seconds\n",
      "Accuracy: 0.5417991584214716\n",
      "Precision: 0.7309713744632257\n",
      "Recall:  0.5417991584214716\n",
      "F1-score: 0.5854240974685558\n"
     ]
    }
   ],
   "source": [
    "# KNN with 5 selected features\n",
    "X_test_lg_5 = X_test.loc[:, lg_features_5]\n",
    "KNN(X_train_lg_5, y_train, X_test_lg_5, y_test)"
   ]
  },
  {
   "cell_type": "code",
   "execution_count": 47,
   "id": "6b2d7140",
   "metadata": {},
   "outputs": [
    {
     "name": "stderr",
     "output_type": "stream",
     "text": [
      "c:\\Users\\Viet Anh Phan\\AppData\\Local\\Programs\\Python\\Python311\\Lib\\site-packages\\sklearn\\base.py:493: UserWarning: X does not have valid feature names, but KNeighborsClassifier was fitted with feature names\n",
      "  warnings.warn(\n"
     ]
    },
    {
     "name": "stdout",
     "output_type": "stream",
     "text": [
      "Predicted attack     0       1      2      3    4    5   6  7\n",
      "Actual attack                                                \n",
      "0                 4412       0    446      1  259   22   0  0\n",
      "1                    0  159788     59     27    3   28   0  0\n",
      "2                    0      51  37988      3    0    1   0  0\n",
      "3                    0      65     24  12473    0    1   0  0\n",
      "4                  872       0    442      1  970   63   0  5\n",
      "5                  301      29    510      1  126  689   0  0\n",
      "6                   19       0     41      0   11    9  29  0\n",
      "7                   15       0     13      0   19    0   0  9\n",
      "Training Time: 0.3515951633453369 seconds\n",
      "Accuracy: 0.9842283634709428\n",
      "Precision: 0.9829821899334528\n",
      "Recall:  0.9842283634709428\n",
      "F1-score: 0.9824123184537709\n"
     ]
    }
   ],
   "source": [
    "# KNN with 5 selected features\n",
    "X_test_xg_5 = X_test.loc[:, xg_features_5]\n",
    "KNN(X_train_xg_5, y_train, X_test_xg_5, y_test)"
   ]
  },
  {
   "cell_type": "markdown",
   "id": "53674a89",
   "metadata": {},
   "source": [
    "## 5.4 Gradient Boosting"
   ]
  },
  {
   "cell_type": "code",
   "execution_count": 48,
   "id": "a99f322c",
   "metadata": {},
   "outputs": [
    {
     "name": "stdout",
     "output_type": "stream",
     "text": [
      "Predicted attack     0       1      2      3     4    5   6   7\n",
      "Actual attack                                                  \n",
      "0                 4773      15      0      1   318    2  26   5\n",
      "1                    3  159874     10      0    15    2   0   1\n",
      "2                    1      12  38025      0     3    2   0   0\n",
      "3                   20     139      1  12393     0    3   0   7\n",
      "4                  835       9      0      0  1482    8  13   6\n",
      "5                  621      13      0      1   116  894   5   6\n",
      "6                   48       0      0      0     2    0  59   0\n",
      "7                   25       0      0      0     5    0   0  26\n",
      "Training Time: 216.53049612045288 seconds\n",
      "Accuracy: 0.9895416808825201\n",
      "Precision: 0.9903376211186882\n",
      "Recall:  0.9895416808825201\n",
      "F1-score: 0.9891746173796421\n"
     ]
    }
   ],
   "source": [
    "# GB with 5 selected features\n",
    "GB(X_train_ig_5, y_train, X_test_ig_5, y_test)"
   ]
  },
  {
   "cell_type": "code",
   "execution_count": 49,
   "id": "8589d3ce",
   "metadata": {},
   "outputs": [
    {
     "name": "stdout",
     "output_type": "stream",
     "text": [
      "Predicted attack     0       1      2      3     4     5   6   7\n",
      "Actual attack                                                   \n",
      "0                 4839       1      0      0   165   127   6   2\n",
      "1                    0  159872      8      8     4    11   0   2\n",
      "2                    1      11  38026      0     1     4   0   0\n",
      "3                    0      28      0  12525     7     3   0   0\n",
      "4                  326       1      0      0  1910   111   3   2\n",
      "5                  201      13      0      0    96  1339   5   2\n",
      "6                    8       0      0      0    22    29  50   0\n",
      "7                    8       0      0      0     4    17   1  26\n",
      "Training Time: 302.74483847618103 seconds\n",
      "Accuracy: 0.9943682474695781\n",
      "Precision: 0.9943089337301935\n",
      "Recall:  0.9943682474695781\n",
      "F1-score: 0.9942891429592887\n"
     ]
    }
   ],
   "source": [
    "# GB with 5 selected features\n",
    "X_test_rfe_5 = X_test.loc[:, rfe_features_5]\n",
    "GB(X_train_rfe_5, y_train, X_test_rfe_5, y_test)"
   ]
  },
  {
   "cell_type": "code",
   "execution_count": 50,
   "id": "83e65b23",
   "metadata": {},
   "outputs": [
    {
     "name": "stdout",
     "output_type": "stream",
     "text": [
      "Predicted attack     0       1      2      3     4     5   6   7\n",
      "Actual attack                                                   \n",
      "0                 4828       0      0      0   145   155   8   4\n",
      "1                    0  159873      2      4     5    19   0   2\n",
      "2                    0      12  38021      5     3     2   0   0\n",
      "3                    0      28      0  12513     8    14   0   0\n",
      "4                  488       0      0      0  1742   119   2   2\n",
      "5                  327       9      0      0    61  1252   5   2\n",
      "6                   28       0      0      0     6    19  56   0\n",
      "7                   15       0      0      0     3    12   0  26\n",
      "Training Time: 361.9152476787567 seconds\n",
      "Accuracy: 0.9931127032867053\n",
      "Precision: 0.9931610223046667\n",
      "Recall:  0.9931127032867053\n",
      "F1-score: 0.9929926898917534\n"
     ]
    }
   ],
   "source": [
    "# GB with 5 selected features\n",
    "X_test_rf_5 = X_test.loc[:, rf_features_5]\n",
    "GB(X_train_rf_5, y_train, X_test_rf_5, y_test)"
   ]
  },
  {
   "cell_type": "code",
   "execution_count": 51,
   "id": "d48a2de2",
   "metadata": {},
   "outputs": [
    {
     "name": "stdout",
     "output_type": "stream",
     "text": [
      "Predicted attack     0      1      2      3    4    5  6   7\n",
      "Actual attack                                               \n",
      "0                 4495     32     38      0  379  185  5   6\n",
      "1                   81  73765  85957     22   26   51  2   1\n",
      "2                   29  12721  25208     15   16   54  0   0\n",
      "3                   16     73     18  12423    9   10  0  14\n",
      "4                 1140     54     63      4  946  137  3   6\n",
      "5                  612    100    108      0  102  730  2   2\n",
      "6                   68      2      0      0   16   23  0   0\n",
      "7                   32      1      3      0    8   12  0   0\n",
      "Training Time: 160.9734263420105 seconds\n",
      "Accuracy: 0.53482088024565\n",
      "Precision: 0.7422298916041148\n",
      "Recall:  0.53482088024565\n",
      "F1-score: 0.5774146924989445\n"
     ]
    }
   ],
   "source": [
    "# GB with 5 selected features\n",
    "X_test_lg_5 = X_test.loc[:, lg_features_5]\n",
    "GB(X_train_lg_5, y_train, X_test_lg_5, y_test)"
   ]
  },
  {
   "cell_type": "code",
   "execution_count": 52,
   "id": "9c46c4df",
   "metadata": {},
   "outputs": [
    {
     "name": "stdout",
     "output_type": "stream",
     "text": [
      "Predicted attack     0       1      2      3     4     5   6   7\n",
      "Actual attack                                                   \n",
      "0                 4275      17      0     14     0   829   1   4\n",
      "1                    0  159802      1    100     0     2   0   0\n",
      "2                    1       5  38015     21     0     1   0   0\n",
      "3                    0      26      2  12534     0     1   0   0\n",
      "4                  526      44      0    193  1178   409   1   2\n",
      "5                  119     209      0     47     0  1279   1   1\n",
      "6                    1       7      0      4     0    39  58   0\n",
      "7                    3       0      0      1     0    25   0  27\n",
      "Training Time: 131.40112590789795 seconds\n",
      "Accuracy: 0.9879131127032867\n",
      "Precision: 0.9899365706769488\n",
      "Recall:  0.9879131127032867\n",
      "F1-score: 0.9877473952154756\n"
     ]
    }
   ],
   "source": [
    "# GB with 5 selected features\n",
    "X_test_xg_5 = X_test.loc[:, xg_features_5]\n",
    "GB(X_train_xg_5, y_train, X_test_xg_5, y_test)"
   ]
  },
  {
   "cell_type": "markdown",
   "id": "eff88f11",
   "metadata": {},
   "source": [
    "## 5.5 MLP"
   ]
  },
  {
   "cell_type": "code",
   "execution_count": 53,
   "id": "96b65a96",
   "metadata": {},
   "outputs": [
    {
     "name": "stderr",
     "output_type": "stream",
     "text": [
      "c:\\Users\\Viet Anh Phan\\AppData\\Local\\Programs\\Python\\Python311\\Lib\\site-packages\\sklearn\\neural_network\\_multilayer_perceptron.py:545: ConvergenceWarning: lbfgs failed to converge (status=1):\n",
      "STOP: TOTAL NO. of ITERATIONS REACHED LIMIT.\n",
      "\n",
      "Increase the number of iterations (max_iter) or scale the data as shown in:\n",
      "    https://scikit-learn.org/stable/modules/preprocessing.html\n",
      "  self.n_iter_ = _check_optimize_result(\"lbfgs\", opt_res, self.max_iter)\n"
     ]
    },
    {
     "name": "stdout",
     "output_type": "stream",
     "text": [
      "Predicted attack     0       1     2      3    5\n",
      "Actual attack                                   \n",
      "0                 5121       7     0      0   12\n",
      "1                    3  158354  1352    177   19\n",
      "2                    2   33827  4120     91    3\n",
      "3                   20      76    64  12403    0\n",
      "4                 2339       1     0      0   13\n",
      "5                 1214      26   120     12  284\n",
      "6                  109       0     0      0    0\n",
      "7                   55       0     0      0    1\n",
      "Training Time: 316.496488571167 seconds\n",
      "Accuracy: 0.820116001364722\n",
      "Precision: 0.8009438814650042\n",
      "Recall:  0.820116001364722\n",
      "F1-score: 0.7621644032930971\n"
     ]
    },
    {
     "name": "stderr",
     "output_type": "stream",
     "text": [
      "c:\\Users\\Viet Anh Phan\\AppData\\Local\\Programs\\Python\\Python311\\Lib\\site-packages\\sklearn\\metrics\\_classification.py:1517: UndefinedMetricWarning: Precision is ill-defined and being set to 0.0 in labels with no predicted samples. Use `zero_division` parameter to control this behavior.\n",
      "  _warn_prf(average, modifier, f\"{metric.capitalize()} is\", len(result))\n"
     ]
    }
   ],
   "source": [
    "# MLP with 5 selected features\n",
    "MLP(X_train_ig_5, y_train, X_test_ig_5, y_test)"
   ]
  },
  {
   "cell_type": "code",
   "execution_count": 54,
   "id": "bcc45215",
   "metadata": {},
   "outputs": [
    {
     "name": "stderr",
     "output_type": "stream",
     "text": [
      "c:\\Users\\Viet Anh Phan\\AppData\\Local\\Programs\\Python\\Python311\\Lib\\site-packages\\sklearn\\neural_network\\_multilayer_perceptron.py:545: ConvergenceWarning: lbfgs failed to converge (status=1):\n",
      "STOP: TOTAL NO. of ITERATIONS REACHED LIMIT.\n",
      "\n",
      "Increase the number of iterations (max_iter) or scale the data as shown in:\n",
      "    https://scikit-learn.org/stable/modules/preprocessing.html\n",
      "  self.n_iter_ = _check_optimize_result(\"lbfgs\", opt_res, self.max_iter)\n"
     ]
    },
    {
     "name": "stdout",
     "output_type": "stream",
     "text": [
      "Predicted attack     0       1   2     3   4    5\n",
      "Actual attack                                    \n",
      "0                 4885       0   0     0  49  206\n",
      "1                    1  159378  44   461   0   21\n",
      "2                    0   37949   7    82   0    5\n",
      "3                    6    9060  10  3473   0   14\n",
      "4                 2099       0   0     0  85  169\n",
      "5                 1057     130   0    28   0  441\n",
      "6                   79       0   0     0   1   29\n",
      "7                   42       0   0     0   0   14\n",
      "Training Time: 364.2382080554962 seconds\n",
      "Accuracy: 0.7654679858978733\n",
      "Precision: 0.654738099905723\n",
      "Recall:  0.7654679858978733\n",
      "F1-score: 0.6772567386829914\n"
     ]
    },
    {
     "name": "stderr",
     "output_type": "stream",
     "text": [
      "c:\\Users\\Viet Anh Phan\\AppData\\Local\\Programs\\Python\\Python311\\Lib\\site-packages\\sklearn\\metrics\\_classification.py:1517: UndefinedMetricWarning: Precision is ill-defined and being set to 0.0 in labels with no predicted samples. Use `zero_division` parameter to control this behavior.\n",
      "  _warn_prf(average, modifier, f\"{metric.capitalize()} is\", len(result))\n"
     ]
    }
   ],
   "source": [
    "# MLP with 5 selected features\n",
    "X_test_rfe_5 = X_test.loc[:, rfe_features_5]\n",
    "MLP(X_train_rfe_5, y_train, X_test_rfe_5, y_test)"
   ]
  },
  {
   "cell_type": "code",
   "execution_count": 55,
   "id": "a2837b8b",
   "metadata": {},
   "outputs": [
    {
     "name": "stderr",
     "output_type": "stream",
     "text": [
      "c:\\Users\\Viet Anh Phan\\AppData\\Local\\Programs\\Python\\Python311\\Lib\\site-packages\\sklearn\\neural_network\\_multilayer_perceptron.py:545: ConvergenceWarning: lbfgs failed to converge (status=1):\n",
      "STOP: TOTAL NO. of ITERATIONS REACHED LIMIT.\n",
      "\n",
      "Increase the number of iterations (max_iter) or scale the data as shown in:\n",
      "    https://scikit-learn.org/stable/modules/preprocessing.html\n",
      "  self.n_iter_ = _check_optimize_result(\"lbfgs\", opt_res, self.max_iter)\n"
     ]
    },
    {
     "name": "stdout",
     "output_type": "stream",
     "text": [
      "Predicted attack     0       1    2    3     4    5\n",
      "Actual attack                                      \n",
      "0                 3675       0    0    0  1189  276\n",
      "1                    2  159350  346  178     7   22\n",
      "2                    0   37928   73   37     0    5\n",
      "3                    1   12398   60   80     4   20\n",
      "4                  961       0    0    0   949  443\n",
      "5                  344     149    0    1   694  468\n",
      "6                   13       0    0    0    62   34\n",
      "7                   13       0    0    0    25   18\n",
      "Training Time: 418.85092782974243 seconds\n",
      "Accuracy: 0.7487546912316615\n",
      "Precision: 0.617617210213671\n",
      "Recall:  0.7487546912316615\n",
      "F1-score: 0.6515642769055039\n"
     ]
    },
    {
     "name": "stderr",
     "output_type": "stream",
     "text": [
      "c:\\Users\\Viet Anh Phan\\AppData\\Local\\Programs\\Python\\Python311\\Lib\\site-packages\\sklearn\\metrics\\_classification.py:1517: UndefinedMetricWarning: Precision is ill-defined and being set to 0.0 in labels with no predicted samples. Use `zero_division` parameter to control this behavior.\n",
      "  _warn_prf(average, modifier, f\"{metric.capitalize()} is\", len(result))\n"
     ]
    }
   ],
   "source": [
    "# MLP with 5 selected features\n",
    "X_test_rf_5 = X_test.loc[:, rf_features_5]\n",
    "MLP(X_train_rf_5, y_train, X_test_rf_5, y_test)"
   ]
  },
  {
   "cell_type": "code",
   "execution_count": 56,
   "id": "cf6cd77f",
   "metadata": {},
   "outputs": [
    {
     "name": "stderr",
     "output_type": "stream",
     "text": [
      "c:\\Users\\Viet Anh Phan\\AppData\\Local\\Programs\\Python\\Python311\\Lib\\site-packages\\sklearn\\neural_network\\_multilayer_perceptron.py:545: ConvergenceWarning: lbfgs failed to converge (status=1):\n",
      "STOP: TOTAL NO. of ITERATIONS REACHED LIMIT.\n",
      "\n",
      "Increase the number of iterations (max_iter) or scale the data as shown in:\n",
      "    https://scikit-learn.org/stable/modules/preprocessing.html\n",
      "  self.n_iter_ = _check_optimize_result(\"lbfgs\", opt_res, self.max_iter)\n"
     ]
    },
    {
     "name": "stdout",
     "output_type": "stream",
     "text": [
      "Predicted attack     0       1     2      3    4    5\n",
      "Actual attack                                        \n",
      "0                 4294     241   109     22  189  285\n",
      "1                  353  158457  1006     11    9   69\n",
      "2                  132   33307  4535     19    2   48\n",
      "3                   90      70     6  12382    9    6\n",
      "4                 1533     184   113     51  370  102\n",
      "5                  976     268    72      5    2  333\n",
      "6                   79       8     1      4    1   16\n",
      "7                   37       8     1      0    0   10\n",
      "Training Time: 290.60850405693054 seconds\n",
      "Accuracy: 0.8205208688729672\n",
      "Precision: 0.8126907284072288\n",
      "Recall:  0.8205208688729672\n",
      "F1-score: 0.7669090657261998\n"
     ]
    },
    {
     "name": "stderr",
     "output_type": "stream",
     "text": [
      "c:\\Users\\Viet Anh Phan\\AppData\\Local\\Programs\\Python\\Python311\\Lib\\site-packages\\sklearn\\metrics\\_classification.py:1517: UndefinedMetricWarning: Precision is ill-defined and being set to 0.0 in labels with no predicted samples. Use `zero_division` parameter to control this behavior.\n",
      "  _warn_prf(average, modifier, f\"{metric.capitalize()} is\", len(result))\n"
     ]
    }
   ],
   "source": [
    "# MLP with 5 selected features\n",
    "X_test_lg_5 = X_test.loc[:, lg_features_5]\n",
    "MLP(X_train_lg_5, y_train, X_test_lg_5, y_test)"
   ]
  },
  {
   "cell_type": "code",
   "execution_count": 57,
   "id": "cc37dc28",
   "metadata": {},
   "outputs": [
    {
     "name": "stderr",
     "output_type": "stream",
     "text": [
      "c:\\Users\\Viet Anh Phan\\AppData\\Local\\Programs\\Python\\Python311\\Lib\\site-packages\\sklearn\\neural_network\\_multilayer_perceptron.py:545: ConvergenceWarning: lbfgs failed to converge (status=1):\n",
      "STOP: TOTAL NO. of ITERATIONS REACHED LIMIT.\n",
      "\n",
      "Increase the number of iterations (max_iter) or scale the data as shown in:\n",
      "    https://scikit-learn.org/stable/modules/preprocessing.html\n",
      "  self.n_iter_ = _check_optimize_result(\"lbfgs\", opt_res, self.max_iter)\n"
     ]
    },
    {
     "name": "stdout",
     "output_type": "stream",
     "text": [
      "Predicted attack     0       1    4    5\n",
      "Actual attack                           \n",
      "0                 4015       1  687  437\n",
      "1                   16  159879    0   10\n",
      "2                    1   38041    0    1\n",
      "3                   11   12546    0    6\n",
      "4                 1375       1  538  439\n",
      "5                  433     149  566  508\n",
      "6                   27       0   42   40\n",
      "7                   21       0   13   22\n",
      "Training Time: 362.35487842559814 seconds\n",
      "Accuracy: 0.7503241214602525\n",
      "Precision: 0.5738327824675065\n",
      "Recall:  0.7503241214602525\n",
      "F1-score: 0.6499637441429954\n"
     ]
    },
    {
     "name": "stderr",
     "output_type": "stream",
     "text": [
      "c:\\Users\\Viet Anh Phan\\AppData\\Local\\Programs\\Python\\Python311\\Lib\\site-packages\\sklearn\\metrics\\_classification.py:1517: UndefinedMetricWarning: Precision is ill-defined and being set to 0.0 in labels with no predicted samples. Use `zero_division` parameter to control this behavior.\n",
      "  _warn_prf(average, modifier, f\"{metric.capitalize()} is\", len(result))\n"
     ]
    }
   ],
   "source": [
    "# MLP with 5 selected features\n",
    "X_test_xg_5 = X_test.loc[:, xg_features_5]\n",
    "MLP(X_train_xg_5, y_train, X_test_xg_5, y_test)"
   ]
  },
  {
   "cell_type": "markdown",
   "id": "bb89420d",
   "metadata": {},
   "source": [
    "# 6. 15 selected features"
   ]
  },
  {
   "cell_type": "markdown",
   "id": "78992160",
   "metadata": {},
   "source": [
    "## 6.1 Decision Tree"
   ]
  },
  {
   "cell_type": "code",
   "execution_count": 16,
   "id": "503a1352",
   "metadata": {},
   "outputs": [
    {
     "name": "stdout",
     "output_type": "stream",
     "text": [
      "Predicted attack     0       1      2      3     4     5   6   7\n",
      "Actual attack                                                   \n",
      "0                 4342       0      0      0   438   316  30  14\n",
      "1                    0  159572     20      0     2   311   0   0\n",
      "2                    3      13  38026      0     1     0   0   0\n",
      "3                    0       1      0  12561     1     0   0   0\n",
      "4                  304       1      0      0  1876   134  30   8\n",
      "5                  167       4      0      0   260  1178  38   9\n",
      "6                   10       0      0      0    15    20  62   2\n",
      "7                    9       0      0      0     7    12   2  26\n",
      "Accuracy: 0.9900739224383032\n",
      "Precision: 0.9909781603237482\n",
      "Recall:  0.9900739224383032\n",
      "F1-score: 0.990439783302328\n"
     ]
    }
   ],
   "source": [
    "# Decision Tree with 15 selected features\n",
    "X_test_ig_15 = X_test.loc[:, ig_features_15]\n",
    "DT(X_train_ig_15, y_train, X_test_ig_15, y_test)"
   ]
  },
  {
   "cell_type": "code",
   "execution_count": 17,
   "id": "a6d4db57",
   "metadata": {},
   "outputs": [
    {
     "name": "stdout",
     "output_type": "stream",
     "text": [
      "Predicted attack     0       1      2      3     4     5   6   7\n",
      "Actual attack                                                   \n",
      "0                 4445       1      0      0   335   329  18  12\n",
      "1                    0  159882      5      4     5     9   0   0\n",
      "2                    3       5  38035      0     0     0   0   0\n",
      "3                    2       0      0  12559     1     1   0   0\n",
      "4                  218       2      0      0  1987   108  29   9\n",
      "5                  156      17      0      0   143  1299  25  16\n",
      "6                   11       0      0      0    20    13  63   2\n",
      "7                    8       1      0      0     7     9   4  27\n",
      "Accuracy: 0.9930490162629364\n",
      "Precision: 0.9933095717051883\n",
      "Recall:  0.9930490162629364\n",
      "F1-score: 0.9931423797946999\n"
     ]
    }
   ],
   "source": [
    "# Decision Tree with 15 selected features\n",
    "X_test_rfe_15 = X_test.loc[:, rfe_features_15]\n",
    "DT(X_train_rfe_15, y_train, X_test_rfe_15, y_test)"
   ]
  },
  {
   "cell_type": "code",
   "execution_count": 18,
   "id": "8876fd31",
   "metadata": {},
   "outputs": [
    {
     "name": "stdout",
     "output_type": "stream",
     "text": [
      "Predicted attack     0       1      2      3     4     5   6   7\n",
      "Actual attack                                                   \n",
      "0                 4305      63    155     19   271   309   9   9\n",
      "1                    0  159880      8      5     1    11   0   0\n",
      "2                    1       3  38038      0     1     0   0   0\n",
      "3                    2       0      1  12558     2     0   0   0\n",
      "4                  174      47    145    229  1641    92  22   3\n",
      "5                   92     322    118     10    75  1022  12   5\n",
      "6                    4       6     20      3     8    12  56   0\n",
      "7                    4       4     10      1     5     6   0  26\n",
      "Accuracy: 0.9895416808825201\n",
      "Precision: 0.9888372100220354\n",
      "Recall:  0.9895416808825201\n",
      "F1-score: 0.9890312621232434\n"
     ]
    }
   ],
   "source": [
    "# Decision Tree with 15 selected features\n",
    "X_test_rf_15 = X_test.loc[:, rf_features_15]\n",
    "DT(X_train_rf_15, y_train, X_test_rf_15, y_test)"
   ]
  },
  {
   "cell_type": "code",
   "execution_count": 19,
   "id": "66a3e6c1",
   "metadata": {},
   "outputs": [
    {
     "name": "stdout",
     "output_type": "stream",
     "text": [
      "Predicted attack     0       1      2      3     4    5   6   7\n",
      "Actual attack                                                  \n",
      "0                 3729      51     24      5   741  507  46  37\n",
      "1                   54  142905  16834     42    25   41   3   1\n",
      "2                   20   18545  19418      9    22   28   1   0\n",
      "3                    9      32     22  12476    17    6   0   1\n",
      "4                  636      26     44      9  1380  198  42  18\n",
      "5                  444      64     38      7   220  832  36  15\n",
      "6                   45       3      1      0    36   20   4   0\n",
      "7                   22       2      2      0    11   14   4   1\n",
      "Accuracy: 0.8222222222222222\n",
      "Precision: 0.8197742844546795\n",
      "Recall:  0.8222222222222222\n",
      "F1-score: 0.8209262557493892\n"
     ]
    }
   ],
   "source": [
    "# Decision Tree with 15 selected features\n",
    "X_test_lg_15 = X_test.loc[:, lg_features_15]\n",
    "DT(X_train_lg_15, y_train, X_test_lg_15, y_test)"
   ]
  },
  {
   "cell_type": "code",
   "execution_count": 20,
   "id": "b5198ca1",
   "metadata": {},
   "outputs": [
    {
     "name": "stdout",
     "output_type": "stream",
     "text": [
      "Predicted attack     0       1      2      3     4    5   6   7\n",
      "Actual attack                                                  \n",
      "0                 4370     125    147     19   207  257   4  11\n",
      "1                    0  159586     27      2     1  289   0   0\n",
      "2                    1       4  38036      1     1    0   0   0\n",
      "3                    1       0      2  12559     1    0   0   0\n",
      "4                  167     118    202    139  1644   70  11   2\n",
      "5                  115     308    166      7    56  994   6   4\n",
      "6                    5      10     24      0     8    3  57   2\n",
      "7                    3       9     10      0     4    3   0  27\n",
      "Accuracy: 0.9883907653815535\n",
      "Precision: 0.9878970720870439\n",
      "Recall:  0.9883907653815535\n",
      "F1-score: 0.9879867689597405\n"
     ]
    }
   ],
   "source": [
    "# Decision Tree with 15 selected features\n",
    "X_test_xg_15 = X_test.loc[:, xg_features_15]\n",
    "DT(X_train_xg_15, y_train, X_test_xg_15, y_test)"
   ]
  },
  {
   "cell_type": "markdown",
   "id": "50522d9f",
   "metadata": {},
   "source": [
    "## 6.2 Random Forest"
   ]
  },
  {
   "cell_type": "code",
   "execution_count": 21,
   "id": "c25b59af",
   "metadata": {},
   "outputs": [
    {
     "name": "stdout",
     "output_type": "stream",
     "text": [
      "Predicted attack     0       1      2      3     4     5   6   7\n",
      "Actual attack                                                   \n",
      "0                 4908       0      0      0   154    77   1   0\n",
      "1                    0  159861     26      0     1    17   0   0\n",
      "2                    0      12  38029      0     2     0   0   0\n",
      "3                    0       5      1  12557     0     0   0   0\n",
      "4                  350       0      0      1  1920    81   1   0\n",
      "5                  225      30      0      0   139  1262   0   0\n",
      "6                   31       0      0      0    44    22  12   0\n",
      "7                   12       0      0      0     7    15   0  22\n",
      "Accuracy: 0.9942954622995565\n",
      "Precision: 0.9942511840347397\n",
      "Recall:  0.9942954622995565\n",
      "F1-score: 0.9940446429962595\n"
     ]
    }
   ],
   "source": [
    "# Decision Tree with 15 selected features\n",
    "X_test_ig_15 = X_test.loc[:, ig_features_15]\n",
    "RF(X_train_ig_15, y_train, X_test_ig_15, y_test)"
   ]
  },
  {
   "cell_type": "code",
   "execution_count": 22,
   "id": "12e2aa8d",
   "metadata": {},
   "outputs": [
    {
     "name": "stdout",
     "output_type": "stream",
     "text": [
      "Predicted attack     0       1      2      3     4     5   6   7\n",
      "Actual attack                                                   \n",
      "0                 4930       0      0      0   137    73   0   0\n",
      "1                    0  159884     14      0     2     5   0   0\n",
      "2                    0       3  38038      0     2     0   0   0\n",
      "3                    0       4      2  12554     3     0   0   0\n",
      "4                  248       1      0      0  2036    68   0   0\n",
      "5                  189      24      0      0   144  1298   1   0\n",
      "6                   27       0      0      0    42    21  19   0\n",
      "7                   11       0      0      0     9    17   0  19\n",
      "Accuracy: 0.995237120436711\n",
      "Precision: 0.9952388600908392\n",
      "Recall:  0.995237120436711\n",
      "F1-score: 0.9950305438195913\n"
     ]
    }
   ],
   "source": [
    "# RF with 15 selected features\n",
    "X_test_rfe_15 = X_test.loc[:, rfe_features_15]\n",
    "RF(X_train_rfe_15, y_train, X_test_rfe_15, y_test)"
   ]
  },
  {
   "cell_type": "code",
   "execution_count": 23,
   "id": "9670978c",
   "metadata": {},
   "outputs": [
    {
     "name": "stdout",
     "output_type": "stream",
     "text": [
      "Predicted attack     0       1      2      3     4     5   6   7\n",
      "Actual attack                                                   \n",
      "0                 4907       0      0      0   160    73   0   0\n",
      "1                    0  159873     18      0     2    12   0   0\n",
      "2                    1       4  38037      0     1     0   0   0\n",
      "3                    0      20      1  12541     1     0   0   0\n",
      "4                  250       1      0      0  2035    67   0   0\n",
      "5                  188      22      0      0   136  1310   0   0\n",
      "6                   26       0      0      0    38    23  22   0\n",
      "7                   11       0      0      0    10    11   0  24\n",
      "Accuracy: 0.9951051973160469\n",
      "Precision: 0.9951324304759109\n",
      "Recall:  0.9951051973160469\n",
      "F1-score: 0.9949300492808474\n"
     ]
    }
   ],
   "source": [
    "# RF with 15 selected features\n",
    "X_test_rf_15 = X_test.loc[:, rf_features_15]\n",
    "RF(X_train_rf_15, y_train, X_test_rf_15, y_test)"
   ]
  },
  {
   "cell_type": "code",
   "execution_count": 24,
   "id": "7cdb5cf4",
   "metadata": {},
   "outputs": [
    {
     "name": "stdout",
     "output_type": "stream",
     "text": [
      "Predicted attack     0       1      2      3     4    5  6  7\n",
      "Actual attack                                                \n",
      "0                 4720       2      4      0   241  173  0  0\n",
      "1                   39  133595  26225      9    10   27  0  0\n",
      "2                   20   14380  23609      5    12   17  0  0\n",
      "3                    5      50     11  12484     9    4  0  0\n",
      "4                  873       6     10      0  1339  125  0  0\n",
      "5                  605      39      9      0   117  886  0  0\n",
      "6                   70       0      0      0    22   17  0  0\n",
      "7                   32       0      1      0     9   11  1  2\n",
      "Accuracy: 0.8035255316729216\n",
      "Precision: 0.826358083414293\n",
      "Recall:  0.8035255316729216\n",
      "F1-score: 0.8117267555094585\n"
     ]
    }
   ],
   "source": [
    "# RF with 15 selected features\n",
    "X_test_lg_15 = X_test.loc[:, lg_features_15]\n",
    "RF(X_train_lg_15, y_train, X_test_lg_15, y_test)"
   ]
  },
  {
   "cell_type": "code",
   "execution_count": 25,
   "id": "8ea7c0c0",
   "metadata": {},
   "outputs": [
    {
     "name": "stdout",
     "output_type": "stream",
     "text": [
      "Predicted attack     0       1      2      3     4     5   6   7\n",
      "Actual attack                                                   \n",
      "0                 4878       1      0      0   155   105   1   0\n",
      "1                    1  159889      8      0     1     6   0   0\n",
      "2                    1       7  38034      0     1     0   0   0\n",
      "3                    0       5      3  12555     0     0   0   0\n",
      "4                  273       1      0      0  1993    86   0   0\n",
      "5                  186      28      0      0   124  1316   2   0\n",
      "6                   15       0      0      0    41    28  25   0\n",
      "7                    7       0      0      0    11    16   0  22\n",
      "Accuracy: 0.9949368816103719\n",
      "Precision: 0.9949007197779937\n",
      "Recall:  0.9949368816103719\n",
      "F1-score: 0.9947720284644582\n"
     ]
    }
   ],
   "source": [
    "# RF with 15 selected features\n",
    "X_test_xg_15 = X_test.loc[:, xg_features_15]\n",
    "RF(X_train_xg_15, y_train, X_test_xg_15, y_test)"
   ]
  },
  {
   "cell_type": "markdown",
   "id": "87a82ee7",
   "metadata": {},
   "source": [
    "## 6.3 KNN"
   ]
  },
  {
   "cell_type": "code",
   "execution_count": 26,
   "id": "26fb0f67",
   "metadata": {},
   "outputs": [
    {
     "name": "stderr",
     "output_type": "stream",
     "text": [
      "C:\\Users\\Viet Anh Phan\\AppData\\Roaming\\Python\\Python311\\site-packages\\sklearn\\base.py:439: UserWarning: X does not have valid feature names, but KNeighborsClassifier was fitted with feature names\n",
      "  warnings.warn(\n"
     ]
    },
    {
     "name": "stdout",
     "output_type": "stream",
     "text": [
      "Predicted attack     0       1      2      3     4    5  6  7\n",
      "Actual attack                                                \n",
      "0                 4464       0      0      0   450  219  4  3\n",
      "1                    0  157144   2723     12     1   25  0  0\n",
      "2                    1    1423  36597      6     0   16  0  0\n",
      "3                    0      60     27  12469     0    7  0  0\n",
      "4                 1040       1      0      0  1199  112  1  0\n",
      "5                  690      47     22      1   134  759  2  1\n",
      "6                   74       0      0      0    25   10  0  0\n",
      "7                   40       0      0      0     9    6  0  1\n",
      "Accuracy: 0.9672830660752871\n",
      "Precision: 0.9669485131893317\n",
      "Recall:  0.9672830660752871\n",
      "F1-score: 0.9666079625764684\n"
     ]
    }
   ],
   "source": [
    "# KNN with 15 selected features\n",
    "X_test_ig_15 = X_test.loc[:, ig_features_15]\n",
    "KNN(X_train_ig_15, y_train, X_test_ig_15, y_test)"
   ]
  },
  {
   "cell_type": "code",
   "execution_count": 27,
   "id": "7925fc3d",
   "metadata": {},
   "outputs": [
    {
     "name": "stderr",
     "output_type": "stream",
     "text": [
      "C:\\Users\\Viet Anh Phan\\AppData\\Roaming\\Python\\Python311\\site-packages\\sklearn\\base.py:439: UserWarning: X does not have valid feature names, but KNeighborsClassifier was fitted with feature names\n",
      "  warnings.warn(\n"
     ]
    },
    {
     "name": "stdout",
     "output_type": "stream",
     "text": [
      "Predicted attack     0       1      2      3     4    5  6  7\n",
      "Actual attack                                                \n",
      "0                 4505       1      0      0   386  243  0  5\n",
      "1                    1  154500   5369     13     4   18  0  0\n",
      "2                    1    6158  31867      5     1   11  0  0\n",
      "3                    0    1090     15  11452     1    5  0  0\n",
      "4                  917       1      0      0  1327  107  0  1\n",
      "5                  601      55     26      5   144  808  8  9\n",
      "6                   62       0      0      0    23   21  0  3\n",
      "7                   33       0      0      0     4   15  0  4\n",
      "Accuracy: 0.9301171386330035\n",
      "Precision: 0.9292888322201532\n",
      "Recall:  0.9301171386330035\n",
      "F1-score: 0.9292270016739272\n"
     ]
    }
   ],
   "source": [
    "# KNN with 15 selected features\n",
    "X_test_rfe_15 = X_test.loc[:, rfe_features_15]\n",
    "KNN(X_train_rfe_15, y_train, X_test_rfe_15, y_test)"
   ]
  },
  {
   "cell_type": "code",
   "execution_count": 28,
   "id": "1f1e04fa",
   "metadata": {},
   "outputs": [
    {
     "name": "stderr",
     "output_type": "stream",
     "text": [
      "C:\\Users\\Viet Anh Phan\\AppData\\Roaming\\Python\\Python311\\site-packages\\sklearn\\base.py:439: UserWarning: X does not have valid feature names, but KNeighborsClassifier was fitted with feature names\n",
      "  warnings.warn(\n"
     ]
    },
    {
     "name": "stdout",
     "output_type": "stream",
     "text": [
      "Predicted attack     0       1      2      3     4    5  6  7\n",
      "Actual attack                                                \n",
      "0                 4524       0      0      0   385  228  1  2\n",
      "1                    1  154578   5295      9     1   21  0  0\n",
      "2                    2    5926  32099      5     0   11  0  0\n",
      "3                    0    1082     20  11454     0    7  0  0\n",
      "4                  919       1      0      0  1306  126  0  1\n",
      "5                  619      64     20      3   166  771  7  6\n",
      "6                   62       0      0      0    31   15  1  0\n",
      "7                   37       0      0      0     6   13  0  0\n",
      "Accuracy: 0.9313453883771181\n",
      "Precision: 0.9305188584912817\n",
      "Recall:  0.9313453883771181\n",
      "F1-score: 0.9304243413124563\n"
     ]
    }
   ],
   "source": [
    "# KNN with 15 selected features\n",
    "X_test_rf_15 = X_test.loc[:, rf_features_15]\n",
    "KNN(X_train_rf_15, y_train, X_test_rf_15, y_test)"
   ]
  },
  {
   "cell_type": "code",
   "execution_count": 29,
   "id": "7d4df193",
   "metadata": {},
   "outputs": [
    {
     "name": "stderr",
     "output_type": "stream",
     "text": [
      "C:\\Users\\Viet Anh Phan\\AppData\\Roaming\\Python\\Python311\\site-packages\\sklearn\\base.py:439: UserWarning: X does not have valid feature names, but KNeighborsClassifier was fitted with feature names\n",
      "  warnings.warn(\n"
     ]
    },
    {
     "name": "stdout",
     "output_type": "stream",
     "text": [
      "Predicted attack     0       1      2      3     4    5  6  7\n",
      "Actual attack                                                \n",
      "0                 4524      15     15      0   371  205  5  5\n",
      "1                   64  124912  34868      6    21   34  0  0\n",
      "2                   30   20775  17188     10    14   26  0  0\n",
      "3                   18      42     13  12467    15    8  0  0\n",
      "4                 1032      24     24      5  1175   91  2  0\n",
      "5                  663      56     25      3   136  768  4  1\n",
      "6                   70       1      0      0    25   12  1  0\n",
      "7                   34       0      2      0    14    5  0  1\n",
      "Accuracy: 0.7325645399749801\n",
      "Precision: 0.7658474641655447\n",
      "Recall:  0.7325645399749801\n",
      "F1-score: 0.7457687580936297\n"
     ]
    }
   ],
   "source": [
    "# KNN with 15 selected features\n",
    "X_test_lg_15 = X_test.loc[:, lg_features_15]\n",
    "KNN(X_train_lg_15, y_train, X_test_lg_15, y_test)"
   ]
  },
  {
   "cell_type": "code",
   "execution_count": 30,
   "id": "cdcb8df0",
   "metadata": {},
   "outputs": [
    {
     "name": "stderr",
     "output_type": "stream",
     "text": [
      "C:\\Users\\Viet Anh Phan\\AppData\\Roaming\\Python\\Python311\\site-packages\\sklearn\\base.py:439: UserWarning: X does not have valid feature names, but KNeighborsClassifier was fitted with feature names\n",
      "  warnings.warn(\n"
     ]
    },
    {
     "name": "stdout",
     "output_type": "stream",
     "text": [
      "Predicted attack     0       1      2      3     4    5  6  7\n",
      "Actual attack                                                \n",
      "0                 4392       1      0      0   503  240  3  1\n",
      "1                    3  154557   5287     38     3   17  0  0\n",
      "2                    2    4901  33109     15     0   16  0  0\n",
      "3                    2     136     25  12395     0    5  0  0\n",
      "4                  986       0      0      1  1264  100  2  0\n",
      "5                  552      70     21      2   156  853  1  1\n",
      "6                   53       0      0      0    27   24  5  0\n",
      "7                   22       0      0      0    14   11  0  9\n",
      "Accuracy: 0.939765722733993\n",
      "Precision: 0.93956247832054\n",
      "Recall:  0.939765722733993\n",
      "F1-score: 0.9392760186566436\n"
     ]
    }
   ],
   "source": [
    "# KNN with 15 selected features\n",
    "X_test_xg_15 = X_test.loc[:, xg_features_15]\n",
    "KNN(X_train_xg_15, y_train, X_test_xg_15, y_test)"
   ]
  },
  {
   "cell_type": "markdown",
   "id": "93156ef4",
   "metadata": {},
   "source": [
    "## 6.4 Gradient Boosting"
   ]
  },
  {
   "cell_type": "code",
   "execution_count": 31,
   "id": "1bde9b6b",
   "metadata": {},
   "outputs": [
    {
     "name": "stdout",
     "output_type": "stream",
     "text": [
      "Predicted attack     0       1      2      3     4     5   6   7\n",
      "Actual attack                                                   \n",
      "0                 4408       1      0      0   351   376   2   2\n",
      "1                    1  159879      3      0     1    19   0   2\n",
      "2                    1      13  38027      0     1     1   0   0\n",
      "3                    0       1      0  12558     0     4   0   0\n",
      "4                  231       1      1      0  1880   236   2   2\n",
      "5                  119      10      0      0    72  1446   7   2\n",
      "6                   10       1      0      0    10    37  51   0\n",
      "7                    2       0      0      0     5    23   0  26\n",
      "Accuracy: 0.9929489366541567\n",
      "Precision: 0.9934496561420354\n",
      "Recall:  0.9929489366541567\n",
      "F1-score: 0.9930411407254375\n"
     ]
    }
   ],
   "source": [
    "# GB with 15 selected features\n",
    "X_test_ig_15 = X_test.loc[:, ig_features_15]\n",
    "GB(X_train_ig_15, y_train, X_test_ig_15, y_test)"
   ]
  },
  {
   "cell_type": "code",
   "execution_count": 32,
   "id": "2bd8244b",
   "metadata": {},
   "outputs": [
    {
     "name": "stdout",
     "output_type": "stream",
     "text": [
      "Predicted attack     0       1      2      3     4     5   6   7\n",
      "Actual attack                                                   \n",
      "0                 4878       0      0      0   133   118   9   2\n",
      "1                    0  159886      2      0     1    12   2   2\n",
      "2                    0      17  38024      0     1     1   0   0\n",
      "3                    1      27      0  12533     1     1   0   0\n",
      "4                  316       0      0      0  1958    70   7   2\n",
      "5                  189      13      0      0   104  1343   5   2\n",
      "6                   15       0      0      0    27    20  47   0\n",
      "7                   10       0      0      0     8    12   0  26\n",
      "Accuracy: 0.9948595473672239\n",
      "Precision: 0.9947773408995016\n",
      "Recall:  0.9948595473672239\n",
      "F1-score: 0.9947719406988008\n"
     ]
    }
   ],
   "source": [
    "# GB with 15 selected features\n",
    "X_test_rfe_15 = X_test.loc[:, rfe_features_15]\n",
    "GB(X_train_rfe_15, y_train, X_test_rfe_15, y_test)"
   ]
  },
  {
   "cell_type": "code",
   "execution_count": 16,
   "id": "9b76b2b3",
   "metadata": {},
   "outputs": [
    {
     "name": "stdout",
     "output_type": "stream",
     "text": [
      "Predicted attack     0       1      2      3     4     5   6   7\n",
      "Actual attack                                                   \n",
      "0                 7483       0      0      1   404   627   1   2\n",
      "1                    0  262290      3      0     3    15   0   0\n",
      "2                    0      40  62616      0     0     3   0   0\n",
      "3                    0       1      0  20319     0     0   0   0\n",
      "4                  290       0      0      2  3256   324   1   2\n",
      "5                  184      20      0      0   126  2409   0   6\n",
      "6                   12       0      0      0    42    67  80   0\n",
      "7                   10       0      0      0     8    36   0  55\n",
      "Accuracy: 0.9938182281877707\n",
      "Precision: 0.9943117157483381\n",
      "Recall:  0.9938182281877707\n",
      "F1-score: 0.9938776909170954\n"
     ]
    }
   ],
   "source": [
    "# GB with 15 selected features\n",
    "X_test_rf_15 = X_test.loc[:, rf_features_15]\n",
    "GB(X_train_rf_15, y_train, X_test_rf_15, y_test)"
   ]
  },
  {
   "cell_type": "code",
   "execution_count": 17,
   "id": "73dc4a68",
   "metadata": {},
   "outputs": [
    {
     "name": "stdout",
     "output_type": "stream",
     "text": [
      "Predicted attack     0       1      2      3     4     5   6  7\n",
      "Actual attack                                                  \n",
      "0                 7840      39     29      1   370   225   7  7\n",
      "1                   87  230447  31629     22    37    87   2  0\n",
      "2                   54   34433  28093      8    13    53   4  1\n",
      "3                    9      73     17  20192    14    14   0  1\n",
      "4                 1594      75     91      5  1885   159  64  2\n",
      "5                 1032     169     99      1   166  1266   4  8\n",
      "6                  106      11      9      0    38    29   5  3\n",
      "7                   62       3      2      0    14    25   1  2\n",
      "Accuracy: 0.803159079442698\n",
      "Precision: 0.7997282677627551\n",
      "Recall:  0.803159079442698\n",
      "F1-score: 0.8006584728074604\n"
     ]
    }
   ],
   "source": [
    "# GB with 15 selected features\n",
    "X_test_lg_15 = X_test.loc[:, lg_features_15]\n",
    "GB(X_train_lg_15, y_train, X_test_lg_15, y_test)"
   ]
  },
  {
   "cell_type": "code",
   "execution_count": 18,
   "id": "be9e4b09",
   "metadata": {},
   "outputs": [
    {
     "name": "stdout",
     "output_type": "stream",
     "text": [
      "Predicted attack     0       1      2      3     4     5   6   7\n",
      "Actual attack                                                   \n",
      "0                 7793       0      0      0   253   470   2   0\n",
      "1                    0  262290      4      3     3     6   5   0\n",
      "2                    0      39  62614      3     2     1   0   0\n",
      "3                    0      12      0  20308     0     0   0   0\n",
      "4                  416       0      0      0  3086   368   2   3\n",
      "5                  415      11      0      9    74  2227   3   6\n",
      "6                   40       0      0      0    19    76  66   0\n",
      "7                   15       0      0      0     2    30   0  62\n",
      "Accuracy: 0.9936463582988208\n",
      "Precision: 0.9938612632021844\n",
      "Recall:  0.9936463582988208\n",
      "F1-score: 0.9936155333805287\n"
     ]
    }
   ],
   "source": [
    "# GB with 15 selected features\n",
    "X_test_xg_15 = X_test.loc[:, xg_features_15]\n",
    "GB(X_train_xg_15, y_train, X_test_xg_15, y_test)"
   ]
  },
  {
   "cell_type": "markdown",
   "id": "470ebc63",
   "metadata": {},
   "source": [
    "## 6.5 MLP"
   ]
  },
  {
   "cell_type": "code",
   "execution_count": 19,
   "id": "efd845eb",
   "metadata": {},
   "outputs": [
    {
     "name": "stderr",
     "output_type": "stream",
     "text": [
      "C:\\Users\\Neil Milan\\anaconda3\\Lib\\site-packages\\sklearn\\neural_network\\_multilayer_perceptron.py:546: ConvergenceWarning: lbfgs failed to converge (status=1):\n",
      "STOP: TOTAL NO. of ITERATIONS REACHED LIMIT.\n",
      "\n",
      "Increase the number of iterations (max_iter) or scale the data as shown in:\n",
      "    https://scikit-learn.org/stable/modules/preprocessing.html\n",
      "  self.n_iter_ = _check_optimize_result(\"lbfgs\", opt_res, self.max_iter)\n"
     ]
    },
    {
     "name": "stdout",
     "output_type": "stream",
     "text": [
      "Predicted attack     0       1     2      3    4     5\n",
      "Actual attack                                         \n",
      "0                 7885       5     0      1   93   534\n",
      "1                   31  261053  1192     16    4    15\n",
      "2                    6   53918  8607    126    0     2\n",
      "3                    3     102    43  20169    3     0\n",
      "4                 2916      14     0      0  701   244\n",
      "5                 1400      72   187      8   23  1055\n",
      "6                  157       0     0      0    5    39\n",
      "7                   80       0     0      0    2    27\n"
     ]
    },
    {
     "name": "stderr",
     "output_type": "stream",
     "text": [
      "C:\\Users\\Neil Milan\\anaconda3\\Lib\\site-packages\\sklearn\\metrics\\_classification.py:1469: UndefinedMetricWarning: Precision is ill-defined and being set to 0.0 in labels with no predicted samples. Use `zero_division` parameter to control this behavior.\n",
      "  _warn_prf(average, modifier, msg_start, len(result))\n"
     ]
    },
    {
     "name": "stdout",
     "output_type": "stream",
     "text": [
      "Accuracy: 0.8301592845777268\n",
      "Precision: 0.8354566713221392\n",
      "Recall:  0.8301592845777268\n",
      "F1-score: 0.7788564988686082\n"
     ]
    }
   ],
   "source": [
    "# MLP with 15 selected features\n",
    "X_test_ig_15 = X_test.loc[:, ig_features_15]\n",
    "MLP(X_train_ig_15, y_train, X_test_ig_15, y_test)"
   ]
  },
  {
   "cell_type": "code",
   "execution_count": 20,
   "id": "7008bf44",
   "metadata": {},
   "outputs": [
    {
     "name": "stderr",
     "output_type": "stream",
     "text": [
      "C:\\Users\\Neil Milan\\anaconda3\\Lib\\site-packages\\sklearn\\neural_network\\_multilayer_perceptron.py:546: ConvergenceWarning: lbfgs failed to converge (status=1):\n",
      "STOP: TOTAL NO. of ITERATIONS REACHED LIMIT.\n",
      "\n",
      "Increase the number of iterations (max_iter) or scale the data as shown in:\n",
      "    https://scikit-learn.org/stable/modules/preprocessing.html\n",
      "  self.n_iter_ = _check_optimize_result(\"lbfgs\", opt_res, self.max_iter)\n"
     ]
    },
    {
     "name": "stdout",
     "output_type": "stream",
     "text": [
      "Predicted attack     0       1     2      3     4    5\n",
      "Actual attack                                         \n",
      "0                 7752      15     2      1   502  246\n",
      "1                   27  260819  1050    369     4   42\n",
      "2                    4   60487  2032     30     2  104\n",
      "3                    0      60   102  20137    14    7\n",
      "4                 2572      13     2      1  1164  123\n",
      "5                 1341      66   214     16   120  988\n",
      "6                  139       3     0      0    27   32\n",
      "7                   77       0     0      0     4   28\n",
      "Accuracy: 0.8119244437791416\n",
      "Precision: 0.775870000900404\n",
      "Recall:  0.8119244437791416\n",
      "F1-score: 0.7417238345097295\n"
     ]
    },
    {
     "name": "stderr",
     "output_type": "stream",
     "text": [
      "C:\\Users\\Neil Milan\\anaconda3\\Lib\\site-packages\\sklearn\\metrics\\_classification.py:1469: UndefinedMetricWarning: Precision is ill-defined and being set to 0.0 in labels with no predicted samples. Use `zero_division` parameter to control this behavior.\n",
      "  _warn_prf(average, modifier, msg_start, len(result))\n"
     ]
    }
   ],
   "source": [
    "# MLP with 15 selected features\n",
    "X_test_rfe_15 = X_test.loc[:, rfe_features_15]\n",
    "MLP(X_train_rfe_15, y_train, X_test_rfe_15, y_test)"
   ]
  },
  {
   "cell_type": "code",
   "execution_count": 21,
   "id": "dd4caa90",
   "metadata": {},
   "outputs": [
    {
     "name": "stderr",
     "output_type": "stream",
     "text": [
      "C:\\Users\\Neil Milan\\anaconda3\\Lib\\site-packages\\sklearn\\neural_network\\_multilayer_perceptron.py:546: ConvergenceWarning: lbfgs failed to converge (status=1):\n",
      "STOP: TOTAL NO. of ITERATIONS REACHED LIMIT.\n",
      "\n",
      "Increase the number of iterations (max_iter) or scale the data as shown in:\n",
      "    https://scikit-learn.org/stable/modules/preprocessing.html\n",
      "  self.n_iter_ = _check_optimize_result(\"lbfgs\", opt_res, self.max_iter)\n"
     ]
    },
    {
     "name": "stdout",
     "output_type": "stream",
     "text": [
      "Predicted attack     0       1     2      3     4    5\n",
      "Actual attack                                         \n",
      "0                 7103       5     1      0   683  726\n",
      "1                   26  261429   656    159     8   33\n",
      "2                    2   61428  1200      6     3   20\n",
      "3                    0     244    99  19966    10    1\n",
      "4                 2254       3     0      0  1261  357\n",
      "5                 1576      57   192      2    66  852\n",
      "6                  141       0     0      0    19   41\n",
      "7                   84       0     0      0     3   22\n",
      "Accuracy: 0.8089278091024511\n",
      "Precision: 0.7658876924844034\n",
      "Recall:  0.8089278091024511\n",
      "F1-score: 0.7357125410570154\n"
     ]
    },
    {
     "name": "stderr",
     "output_type": "stream",
     "text": [
      "C:\\Users\\Neil Milan\\anaconda3\\Lib\\site-packages\\sklearn\\metrics\\_classification.py:1469: UndefinedMetricWarning: Precision is ill-defined and being set to 0.0 in labels with no predicted samples. Use `zero_division` parameter to control this behavior.\n",
      "  _warn_prf(average, modifier, msg_start, len(result))\n"
     ]
    }
   ],
   "source": [
    "# MLP with 15 selected features\n",
    "X_test_rf_15 = X_test.loc[:, rf_features_15]\n",
    "MLP(X_train_rf_15, y_train, X_test_rf_15, y_test)"
   ]
  },
  {
   "cell_type": "code",
   "execution_count": 22,
   "id": "09aefc05",
   "metadata": {},
   "outputs": [
    {
     "name": "stderr",
     "output_type": "stream",
     "text": [
      "C:\\Users\\Neil Milan\\anaconda3\\Lib\\site-packages\\sklearn\\neural_network\\_multilayer_perceptron.py:546: ConvergenceWarning: lbfgs failed to converge (status=1):\n",
      "STOP: TOTAL NO. of ITERATIONS REACHED LIMIT.\n",
      "\n",
      "Increase the number of iterations (max_iter) or scale the data as shown in:\n",
      "    https://scikit-learn.org/stable/modules/preprocessing.html\n",
      "  self.n_iter_ = _check_optimize_result(\"lbfgs\", opt_res, self.max_iter)\n"
     ]
    },
    {
     "name": "stdout",
     "output_type": "stream",
     "text": [
      "Predicted attack     0       1      2      3     4    5\n",
      "Actual attack                                          \n",
      "0                 7757     201     26      1   360  173\n",
      "1                  455  259584   2072      5    44  151\n",
      "2                  246   52045  10269     17    37   45\n",
      "3                  101       3      6  20159    48    3\n",
      "4                 2213     322    125     61  1079   75\n",
      "5                 1605     292    152      0    52  644\n",
      "6                  152      13      5      1    13   17\n",
      "7                   81      10      1      0     9    8\n"
     ]
    },
    {
     "name": "stderr",
     "output_type": "stream",
     "text": [
      "C:\\Users\\Neil Milan\\anaconda3\\Lib\\site-packages\\sklearn\\metrics\\_classification.py:1469: UndefinedMetricWarning: Precision is ill-defined and being set to 0.0 in labels with no predicted samples. Use `zero_division` parameter to control this behavior.\n",
      "  _warn_prf(average, modifier, msg_start, len(result))\n"
     ]
    },
    {
     "name": "stdout",
     "output_type": "stream",
     "text": [
      "Accuracy: 0.8302202706673542\n",
      "Precision: 0.8270836501758967\n",
      "Recall:  0.8302202706673542\n",
      "F1-score: 0.7842276136220641\n"
     ]
    }
   ],
   "source": [
    "# MLP with 15 selected features\n",
    "X_test_lg_15 = X_test.loc[:, lg_features_15]\n",
    "MLP(X_train_lg_15, y_train, X_test_lg_15, y_test)"
   ]
  },
  {
   "cell_type": "code",
   "execution_count": 23,
   "id": "8c17ac53",
   "metadata": {},
   "outputs": [
    {
     "name": "stderr",
     "output_type": "stream",
     "text": [
      "C:\\Users\\Neil Milan\\anaconda3\\Lib\\site-packages\\sklearn\\neural_network\\_multilayer_perceptron.py:546: ConvergenceWarning: lbfgs failed to converge (status=1):\n",
      "STOP: TOTAL NO. of ITERATIONS REACHED LIMIT.\n",
      "\n",
      "Increase the number of iterations (max_iter) or scale the data as shown in:\n",
      "    https://scikit-learn.org/stable/modules/preprocessing.html\n",
      "  self.n_iter_ = _check_optimize_result(\"lbfgs\", opt_res, self.max_iter)\n"
     ]
    },
    {
     "name": "stdout",
     "output_type": "stream",
     "text": [
      "Predicted attack     0       1     2      3     4     5\n",
      "Actual attack                                          \n",
      "0                 7160      70     0      0   622   666\n",
      "1                    5  260389  1302    577    15    23\n",
      "2                    1   54895  7668     88     4     3\n",
      "3                    1     127    35  20140    16     1\n",
      "4                 2576      68     0      1  1038   192\n",
      "5                 1338     226    23     20   124  1014\n",
      "6                  116       1     0      0    33    51\n",
      "7                   82       0     0      0     5    22\n"
     ]
    },
    {
     "name": "stderr",
     "output_type": "stream",
     "text": [
      "C:\\Users\\Neil Milan\\anaconda3\\Lib\\site-packages\\sklearn\\metrics\\_classification.py:1469: UndefinedMetricWarning: Precision is ill-defined and being set to 0.0 in labels with no predicted samples. Use `zero_division` parameter to control this behavior.\n",
      "  _warn_prf(average, modifier, msg_start, len(result))\n"
     ]
    },
    {
     "name": "stdout",
     "output_type": "stream",
     "text": [
      "Accuracy: 0.824445996817635\n",
      "Precision: 0.8265197148797239\n",
      "Recall:  0.824445996817635\n",
      "F1-score: 0.7716088688120296\n"
     ]
    }
   ],
   "source": [
    "# MLP with 15 selected features\n",
    "X_test_xg_15 = X_test.loc[:, xg_features_15]\n",
    "MLP(X_train_xg_15, y_train, X_test_xg_15, y_test)"
   ]
  },
  {
   "cell_type": "markdown",
   "id": "3886dca9",
   "metadata": {},
   "source": [
    "# 7. 30 selected features"
   ]
  },
  {
   "cell_type": "markdown",
   "id": "25f2dd03",
   "metadata": {},
   "source": [
    "## 7.1 Decision Tree"
   ]
  },
  {
   "cell_type": "code",
   "execution_count": 24,
   "id": "22a54347",
   "metadata": {},
   "outputs": [
    {
     "name": "stdout",
     "output_type": "stream",
     "text": [
      "Predicted attack     0       1      2      3     4     5   6   7\n",
      "Actual attack                                                   \n",
      "0                 7208     425     79      1   411   344  22  28\n",
      "1                    0  262263      9      2     3    34   0   0\n",
      "2                    0      15  62640      1     2     1   0   0\n",
      "3                    0       0      0  20319     1     0   0   0\n",
      "4                  260     515     76    190  2740    74  17   3\n",
      "5                  144     655    162      0   111  1654  11   8\n",
      "6                    9      61      7      0    16     8  97   3\n",
      "7                    3      33      2      0     6     8   0  57\n",
      "Accuracy: 0.989576922863685\n",
      "Precision: 0.9887663654200576\n",
      "Recall:  0.989576922863685\n",
      "F1-score: 0.9889482340111935\n"
     ]
    }
   ],
   "source": [
    "# DT with 30 selected features\n",
    "X_test_ig_30 = X_test.loc[:, ig_features_30]\n",
    "DT(X_train_ig_30, y_train, X_test_ig_30, y_test)"
   ]
  },
  {
   "cell_type": "code",
   "execution_count": 25,
   "id": "096ec665",
   "metadata": {},
   "outputs": [
    {
     "name": "stdout",
     "output_type": "stream",
     "text": [
      "Predicted attack     0       1      2      3     4     5    6   7\n",
      "Actual attack                                                    \n",
      "0                 7527       0      0      1   505   421   37  27\n",
      "1                    1  262264     10      2     3    31    0   0\n",
      "2                    1      20  62633      1     2     2    0   0\n",
      "3                    0       0      0  20320     0     0    0   0\n",
      "4                  358       0      1      0  3310   169   25  12\n",
      "5                  222       8      0      0   199  2284   19  13\n",
      "6                   18       0      0      0    39    31  111   2\n",
      "7                   12       0      0      0    14    17    0  66\n",
      "Accuracy: 0.993837632852652\n",
      "Precision: 0.9939961997880659\n",
      "Recall:  0.993837632852652\n",
      "F1-score: 0.9938914999267838\n"
     ]
    }
   ],
   "source": [
    "# DT with 30 selected features\n",
    "X_test_rfe_30 = X_test.loc[:, rfe_features_30]\n",
    "DT(X_train_rfe_30, y_train, X_test_rfe_30, y_test)"
   ]
  },
  {
   "cell_type": "code",
   "execution_count": 26,
   "id": "efae5581",
   "metadata": {},
   "outputs": [
    {
     "name": "stdout",
     "output_type": "stream",
     "text": [
      "Predicted attack     0       1      2      3     4     5   6   7\n",
      "Actual attack                                                   \n",
      "0                 7271     338     81     85   389   306  25  23\n",
      "1                    0  262274     15      2     2    18   0   0\n",
      "2                    1      15  62640      1     2     0   0   0\n",
      "3                    0       0      0  20319     1     0   0   0\n",
      "4                  234     420     79    283  2774    63  15   7\n",
      "5                  154     550    205     63   101  1647  14  11\n",
      "6                   10      47      7     14    17     8  98   0\n",
      "7                    4      31      2      2     4     7   0  59\n",
      "Accuracy: 0.9898652207419235\n",
      "Precision: 0.9891043849012198\n",
      "Recall:  0.9898652207419235\n",
      "F1-score: 0.9892392066938294\n"
     ]
    }
   ],
   "source": [
    "# DT with 30 selected features\n",
    "X_test_rf_30 = X_test.loc[:, rf_features_30]\n",
    "DT(X_train_rf_30, y_train, X_test_rf_30, y_test)"
   ]
  },
  {
   "cell_type": "code",
   "execution_count": 27,
   "id": "3166816c",
   "metadata": {},
   "outputs": [
    {
     "name": "stdout",
     "output_type": "stream",
     "text": [
      "Predicted attack     0       1      2      3     4     5    6   7\n",
      "Actual attack                                                    \n",
      "0                 7346       1      0      0   657   433   45  36\n",
      "1                    3  262280     11      1     2    14    0   0\n",
      "2                    0      24  62630      0     3     2    0   0\n",
      "3                    0       1      0  20319     0     0    0   0\n",
      "4                  397       0      0      1  3292   133   42  10\n",
      "5                  274       3      0      0   199  2222   24  23\n",
      "6                   26       0      0      0    30    24  120   1\n",
      "7                   19       0      0      0    14    14    2  60\n",
      "Accuracy: 0.9931556974868186\n",
      "Precision: 0.9933692390587188\n",
      "Recall:  0.9931556974868186\n",
      "F1-score: 0.9932281875724204\n"
     ]
    }
   ],
   "source": [
    "# DT with 30 selected features\n",
    "X_test_lg_30 = X_test.loc[:, lg_features_30]\n",
    "DT(X_train_lg_30, y_train, X_test_lg_30, y_test)"
   ]
  },
  {
   "cell_type": "code",
   "execution_count": 28,
   "id": "5fe81b92",
   "metadata": {},
   "outputs": [
    {
     "name": "stdout",
     "output_type": "stream",
     "text": [
      "Predicted attack     0       1      2      3     4     5   6   7\n",
      "Actual attack                                                   \n",
      "0                 7261     324    179      1   381   339  17  16\n",
      "1                    0  262276     15      2     2    16   0   0\n",
      "2                    0      13  62642      1     2     1   0   0\n",
      "3                    0       0      0  20319     1     0   0   0\n",
      "4                  224     348    242    191  2771    76  15   8\n",
      "5                  155     608    211      0    98  1661   6   6\n",
      "6                    9      37     31      0    16     9  97   2\n",
      "7                    4      19     16      0     5     6   0  59\n",
      "Accuracy: 0.9898763091218558\n",
      "Precision: 0.989098347850299\n",
      "Recall:  0.9898763091218558\n",
      "F1-score: 0.9892511954380758\n"
     ]
    }
   ],
   "source": [
    "# DT with 30 selected features\n",
    "X_test_xg_30 = X_test.loc[:, xg_features_30]\n",
    "DT(X_train_xg_30, y_train, X_test_xg_30, y_test)"
   ]
  },
  {
   "cell_type": "markdown",
   "id": "171f4bde",
   "metadata": {},
   "source": [
    "## 7.2 Random Forest"
   ]
  },
  {
   "cell_type": "code",
   "execution_count": 29,
   "id": "0bc38e7d",
   "metadata": {},
   "outputs": [
    {
     "name": "stdout",
     "output_type": "stream",
     "text": [
      "Predicted attack     0       1      2      3     4     5   6   7\n",
      "Actual attack                                                   \n",
      "0                 8198       0      0      0   169   151   0   0\n",
      "1                    0  262294      8      2     2     5   0   0\n",
      "2                    0      23  62634      0     1     1   0   0\n",
      "3                    0       1      0  20319     0     0   0   0\n",
      "4                  401       0      0      0  3352   122   0   0\n",
      "5                  271      23      0      0   149  2302   0   0\n",
      "6                   32       0      0      0    71    50  48   0\n",
      "7                   28       0      0      0    24    23   0  34\n",
      "Accuracy: 0.9956838481113717\n",
      "Precision: 0.9957112719306539\n",
      "Recall:  0.9956838481113717\n",
      "F1-score: 0.995496658217841\n"
     ]
    }
   ],
   "source": [
    "# RF with 30 selected features\n",
    "X_test_ig_30 = X_test.loc[:, ig_features_30]\n",
    "RF(X_train_ig_30, y_train, X_test_ig_30, y_test)"
   ]
  },
  {
   "cell_type": "code",
   "execution_count": 30,
   "id": "e135b8c3",
   "metadata": {},
   "outputs": [
    {
     "name": "stdout",
     "output_type": "stream",
     "text": [
      "Predicted attack     0       1      2      3     4     5   6   7\n",
      "Actual attack                                                   \n",
      "0                 8202       0      0      0   154   162   0   0\n",
      "1                    0  262297      7      2     2     3   0   0\n",
      "2                    2      22  62635      0     0     0   0   0\n",
      "3                    0       0      0  20320     0     0   0   0\n",
      "4                  383       1      0      0  3341   150   0   0\n",
      "5                  279      25      0      0   139  2301   1   0\n",
      "6                   28       0      0      0    66    52  55   0\n",
      "7                   23       0      0      0    22    19   0  45\n",
      "Accuracy: 0.9957254295361176\n",
      "Precision: 0.9957408059042185\n",
      "Recall:  0.9957254295361176\n",
      "F1-score: 0.9955687717455746\n"
     ]
    }
   ],
   "source": [
    "# RF with 30 selected features\n",
    "X_test_rfe_30 = X_test.loc[:, rfe_features_30]\n",
    "RF(X_train_rfe_30, y_train, X_test_rfe_30, y_test)"
   ]
  },
  {
   "cell_type": "code",
   "execution_count": 31,
   "id": "5eded424",
   "metadata": {},
   "outputs": [
    {
     "name": "stdout",
     "output_type": "stream",
     "text": [
      "Predicted attack     0       1      2      3     4     5   6   7\n",
      "Actual attack                                                   \n",
      "0                 8208       0      0      0   163   147   0   0\n",
      "1                    0  262291     10      1     4     5   0   0\n",
      "2                    1      28  62629      0     1     0   0   0\n",
      "3                    0       0      0  20320     0     0   0   0\n",
      "4                  386       0      0      0  3355   134   0   0\n",
      "5                  280      27      0      0   162  2276   0   0\n",
      "6                   28       0      0      0    73    54  46   0\n",
      "7                   16       0      0      0    27    23   0  43\n",
      "Accuracy: 0.9956478108765918\n",
      "Precision: 0.9956676751566313\n",
      "Recall:  0.9956478108765918\n",
      "F1-score: 0.9954676403503647\n"
     ]
    }
   ],
   "source": [
    "# RF with 30 selected features\n",
    "X_test_rf_30 = X_test.loc[:, rf_features_30]\n",
    "RF(X_train_rf_30, y_train, X_test_rf_30, y_test)"
   ]
  },
  {
   "cell_type": "code",
   "execution_count": 32,
   "id": "9f1a2211",
   "metadata": {},
   "outputs": [
    {
     "name": "stdout",
     "output_type": "stream",
     "text": [
      "Predicted attack     0       1      2      3     4     5   6   7\n",
      "Actual attack                                                   \n",
      "0                 8240       0      0      0   134   144   0   0\n",
      "1                    0  262293     12      1     1     4   0   0\n",
      "2                    1      30  62627      0     0     1   0   0\n",
      "3                    0       0      0  20320     0     0   0   0\n",
      "4                  564       0      0      0  3233    78   0   0\n",
      "5                  429      34      0      0   145  2137   0   0\n",
      "6                   70       0      0      0    62    24  45   0\n",
      "7                   46       0      0      0    15    12   0  36\n",
      "Accuracy: 0.994990824365606\n",
      "Precision: 0.9950812838014546\n",
      "Recall:  0.994990824365606\n",
      "F1-score: 0.9947585322360688\n"
     ]
    }
   ],
   "source": [
    "# RF with 30 selected features\n",
    "X_test_lg_30 = X_test.loc[:, lg_features_30]\n",
    "RF(X_train_lg_30, y_train, X_test_lg_30, y_test)"
   ]
  },
  {
   "cell_type": "code",
   "execution_count": 33,
   "id": "bf52ef22",
   "metadata": {},
   "outputs": [
    {
     "name": "stdout",
     "output_type": "stream",
     "text": [
      "Predicted attack     0       1      2      3     4     5   6   7\n",
      "Actual attack                                                   \n",
      "0                 8199       0      0      0   164   155   0   0\n",
      "1                    0  262298      8      1     2     2   0   0\n",
      "2                    1      22  62635      0     1     0   0   0\n",
      "3                    0       0      0  20320     0     0   0   0\n",
      "4                  386       0      0      0  3360   129   0   0\n",
      "5                  263      31      0      0   153  2298   0   0\n",
      "6                   33       0      0      0    71    50  47   0\n",
      "7                   29       0      0      0    14    20   0  46\n",
      "Accuracy: 0.995744834200999\n",
      "Precision: 0.9957652593463877\n",
      "Recall:  0.995744834200999\n",
      "F1-score: 0.9955719005246749\n"
     ]
    }
   ],
   "source": [
    "# RF with 30 selected features\n",
    "X_test_xg_30 = X_test.loc[:, xg_features_30]\n",
    "RF(X_train_xg_30, y_train, X_test_xg_30, y_test)"
   ]
  },
  {
   "cell_type": "markdown",
   "id": "fa8bc62f",
   "metadata": {},
   "source": [
    "## 7.3 KNN"
   ]
  },
  {
   "cell_type": "code",
   "execution_count": 34,
   "id": "67b6a179",
   "metadata": {},
   "outputs": [
    {
     "name": "stderr",
     "output_type": "stream",
     "text": [
      "C:\\Users\\Neil Milan\\anaconda3\\Lib\\site-packages\\sklearn\\base.py:464: UserWarning: X does not have valid feature names, but KNeighborsClassifier was fitted with feature names\n",
      "  warnings.warn(\n"
     ]
    },
    {
     "name": "stdout",
     "output_type": "stream",
     "text": [
      "Predicted attack     0       1      2      3     4     5   6  7\n",
      "Actual attack                                                  \n",
      "0                 7574       0      1      0   556   363  15  9\n",
      "1                    0  254286   7956     19     4    46   0  0\n",
      "2                    0   11966  50649     15     2    27   0  0\n",
      "3                    0      70     19  20223     1     7   0  0\n",
      "4                 1368       5      0      0  2335   156   5  6\n",
      "5                  860      51     12      4   223  1585   3  7\n",
      "6                  106       0      0      0    42    40   8  5\n",
      "7                   61       0      0      0    16    25   3  4\n",
      "Accuracy: 0.9332645853777534\n",
      "Precision: 0.9317630228138398\n",
      "Recall:  0.9332645853777534\n",
      "F1-score: 0.9320281857429669\n"
     ]
    }
   ],
   "source": [
    "# KNN with 30 selected features\n",
    "X_test_ig_30 = X_test.loc[:, ig_features_30]\n",
    "KNN(X_train_ig_30, y_train, X_test_ig_30, y_test)"
   ]
  },
  {
   "cell_type": "code",
   "execution_count": 35,
   "id": "dc39627c",
   "metadata": {},
   "outputs": [
    {
     "name": "stderr",
     "output_type": "stream",
     "text": [
      "C:\\Users\\Neil Milan\\anaconda3\\Lib\\site-packages\\sklearn\\base.py:464: UserWarning: X does not have valid feature names, but KNeighborsClassifier was fitted with feature names\n",
      "  warnings.warn(\n"
     ]
    },
    {
     "name": "stdout",
     "output_type": "stream",
     "text": [
      "Predicted attack     0       1      2      3     4     5   6   7\n",
      "Actual attack                                                   \n",
      "0                 7572       2      0      0   569   360  14   1\n",
      "1                    1  255714   6527     21     2    46   0   0\n",
      "2                    1   12381  50231     16     1    29   0   0\n",
      "3                    0      70     16  20225     0     9   0   0\n",
      "4                 1333       5      0      0  2373   157   5   2\n",
      "5                  868      44     19      3   219  1581   7   4\n",
      "6                  108       0      0      0    37    45   9   2\n",
      "7                   58       0      0      0    15    16   2  18\n",
      "Accuracy: 0.9362002339648166\n",
      "Precision: 0.9347147447114397\n",
      "Recall:  0.9362002339648166\n",
      "F1-score: 0.934705801281766\n"
     ]
    }
   ],
   "source": [
    "# KNN with 30 selected features\n",
    "X_test_rfe_30 = X_test.loc[:, rfe_features_30]\n",
    "KNN(X_train_rfe_30, y_train, X_test_rfe_30, y_test)"
   ]
  },
  {
   "cell_type": "code",
   "execution_count": 36,
   "id": "9e4176dc",
   "metadata": {},
   "outputs": [
    {
     "name": "stderr",
     "output_type": "stream",
     "text": [
      "C:\\Users\\Neil Milan\\anaconda3\\Lib\\site-packages\\sklearn\\base.py:464: UserWarning: X does not have valid feature names, but KNeighborsClassifier was fitted with feature names\n",
      "  warnings.warn(\n"
     ]
    },
    {
     "name": "stdout",
     "output_type": "stream",
     "text": [
      "Predicted attack     0       1      2      3     4     5   6   7\n",
      "Actual attack                                                   \n",
      "0                 7596       2      0      0   553   349  16   2\n",
      "1                    3  255145   7092     20     3    48   0   0\n",
      "2                    1   12414  50200     16     1    27   0   0\n",
      "3                    0      72     16  20224     1     7   0   0\n",
      "4                 1354       4      0      0  2353   157   5   2\n",
      "5                  852      47     14      4   221  1600   5   2\n",
      "6                  111       1      0      0    39    42   8   0\n",
      "7                   58       0      0      0    14    16   3  18\n",
      "Accuracy: 0.9345951909696234\n",
      "Precision: 0.9331051129613489\n",
      "Recall:  0.9345951909696234\n",
      "F1-score: 0.9331600777934632\n"
     ]
    }
   ],
   "source": [
    "# KNN with 30 selected features\n",
    "X_test_rf_30 = X_test.loc[:, rf_features_30]\n",
    "KNN(X_train_rf_30, y_train, X_test_rf_30, y_test)"
   ]
  },
  {
   "cell_type": "code",
   "execution_count": 37,
   "id": "a5ce75a7",
   "metadata": {},
   "outputs": [
    {
     "name": "stderr",
     "output_type": "stream",
     "text": [
      "C:\\Users\\Neil Milan\\anaconda3\\Lib\\site-packages\\sklearn\\base.py:464: UserWarning: X does not have valid feature names, but KNeighborsClassifier was fitted with feature names\n",
      "  warnings.warn(\n"
     ]
    },
    {
     "name": "stdout",
     "output_type": "stream",
     "text": [
      "Predicted attack     0       1      2      3     4     5   6  7\n",
      "Actual attack                                                  \n",
      "0                 7575       1      0      0   580   344  14  4\n",
      "1                    3  254538   7701     22     2    45   0  0\n",
      "2                    1    8751  53858     17     1    31   0  0\n",
      "3                    0      63     21  20229     0     7   0  0\n",
      "4                 1342       5      1      0  2370   149   5  3\n",
      "5                  867      47     18      3   223  1576   6  5\n",
      "6                  111       1      0      0    37    41   8  3\n",
      "7                   65       0      0      0    16    22   2  4\n",
      "Accuracy: 0.9429502852485737\n",
      "Precision: 0.9421918175983961\n",
      "Recall:  0.9429502852485737\n",
      "F1-score: 0.9422666765531574\n"
     ]
    }
   ],
   "source": [
    "# KNN with 30 selected features\n",
    "X_test_lg_30 = X_test.loc[:, lg_features_30]\n",
    "KNN(X_train_lg_30, y_train, X_test_lg_30, y_test)"
   ]
  },
  {
   "cell_type": "code",
   "execution_count": 38,
   "id": "183bc9e6",
   "metadata": {},
   "outputs": [
    {
     "name": "stderr",
     "output_type": "stream",
     "text": [
      "C:\\Users\\Neil Milan\\anaconda3\\Lib\\site-packages\\sklearn\\base.py:464: UserWarning: X does not have valid feature names, but KNeighborsClassifier was fitted with feature names\n",
      "  warnings.warn(\n"
     ]
    },
    {
     "name": "stdout",
     "output_type": "stream",
     "text": [
      "Predicted attack     0       1      2      3     4     5   6   7\n",
      "Actual attack                                                   \n",
      "0                 7586       2      0      0   563   349  17   1\n",
      "1                    3  255201   7040     19     2    46   0   0\n",
      "2                    1   12332  50280     16     1    29   0   0\n",
      "3                    0      67     16  20231     0     6   0   0\n",
      "4                 1353       6      0      0  2347   161   6   2\n",
      "5                  859      48     15      3   218  1594   6   2\n",
      "6                  106       1      0      0    39    45   9   1\n",
      "7                   58       0      0      0    14    16   3  18\n",
      "Accuracy: 0.934933386557557\n",
      "Precision: 0.9334570182028552\n",
      "Recall:  0.934933386557557\n",
      "F1-score: 0.9335120445774006\n"
     ]
    }
   ],
   "source": [
    "# KNN with 30 selected features\n",
    "X_test_xg_30 = X_test.loc[:, xg_features_30]\n",
    "KNN(X_train_xg_30, y_train, X_test_xg_30, y_test)"
   ]
  },
  {
   "cell_type": "markdown",
   "id": "40b61d48",
   "metadata": {},
   "source": [
    "## 7.4 Gradient Boosting"
   ]
  },
  {
   "cell_type": "code",
   "execution_count": 39,
   "id": "21e2e27b",
   "metadata": {},
   "outputs": [
    {
     "name": "stdout",
     "output_type": "stream",
     "text": [
      "Predicted attack     0       1      2      3     4     5   6   7\n",
      "Actual attack                                                   \n",
      "0                 8018       0      0      1     2   480  10   7\n",
      "1                    0  262281     10      1     2    15   1   1\n",
      "2                    1      46  62606      0     0     5   0   1\n",
      "3                    0       0      0  20320     0     0   0   0\n",
      "4                 1079       0      0      5  2369   391  25   6\n",
      "5                  319      17      0      1     0  2390  13   5\n",
      "6                   26       0      0      0     0    78  96   1\n",
      "7                   20       0      0      0     0    33   0  56\n",
      "Accuracy: 0.9927870088540713\n",
      "Precision: 0.9936331821967421\n",
      "Recall:  0.9927870088540713\n",
      "F1-score: 0.9925716365117158\n"
     ]
    }
   ],
   "source": [
    "# GB with 30 selected features\n",
    "X_test_ig_30 = X_test.loc[:, ig_features_30]\n",
    "GB(X_train_ig_30, y_train, X_test_ig_30, y_test)"
   ]
  },
  {
   "cell_type": "code",
   "execution_count": 40,
   "id": "354c5206",
   "metadata": {},
   "outputs": [
    {
     "name": "stdout",
     "output_type": "stream",
     "text": [
      "Predicted attack     0       1      2      3     4     5    6   7\n",
      "Actual attack                                                    \n",
      "0                 7840       1      0      0   415   250   11   1\n",
      "1                    0  262280      6      0     5    13    7   0\n",
      "2                    0      41  62613      2     2     1    0   0\n",
      "3                    0       1      0  20319     0     0    0   0\n",
      "4                  464       0      0      2  3188   212    8   1\n",
      "5                  570     109      0      1   476  1409  175   5\n",
      "6                   13       0      0      0    30    56  102   0\n",
      "7                   23       0      0      0     6    16    2  62\n",
      "Accuracy: 0.9918916221745422\n",
      "Precision: 0.9917464074120872\n",
      "Recall:  0.9918916221745422\n",
      "F1-score: 0.9916471377134687\n"
     ]
    }
   ],
   "source": [
    "# GB with 30 selected features\n",
    "X_test_rfe_30 = X_test.loc[:, rfe_features_30]\n",
    "GB(X_train_rfe_30, y_train, X_test_rfe_30, y_test)"
   ]
  },
  {
   "cell_type": "code",
   "execution_count": 41,
   "id": "e58901e5",
   "metadata": {},
   "outputs": [
    {
     "name": "stdout",
     "output_type": "stream",
     "text": [
      "Predicted attack     0       1      2      3     4     5    6   7\n",
      "Actual attack                                                    \n",
      "0                 7844       0      0      0   464   203    1   6\n",
      "1                    0  262288      5      0     3    12    3   0\n",
      "2                    0      41  62612      2     2     1    1   0\n",
      "3                    0       1      0  20319     0     0    0   0\n",
      "4                  427       0      0      0  3276   163    3   6\n",
      "5                  696     346      0      1   426  1116  149  11\n",
      "6                   11       0      0      0    44    48   98   0\n",
      "7                   21       0      0      0    12    12    0  64\n",
      "Accuracy: 0.991348291557862\n",
      "Precision: 0.9908851881836279\n",
      "Recall:  0.991348291557862\n",
      "F1-score: 0.9907504647945424\n"
     ]
    }
   ],
   "source": [
    "# GB with 30 selected features\n",
    "X_test_rf_30 = X_test.loc[:, rf_features_30]\n",
    "GB(X_train_rf_30, y_train, X_test_rf_30, y_test)"
   ]
  },
  {
   "cell_type": "code",
   "execution_count": 42,
   "id": "dfa380ab",
   "metadata": {},
   "outputs": [
    {
     "name": "stdout",
     "output_type": "stream",
     "text": [
      "Predicted attack     0       1      2      3     4     5   6   7\n",
      "Actual attack                                                   \n",
      "0                 8002       0      0      0   261   250   0   5\n",
      "1                    0  262295      4      0     4     6   2   0\n",
      "2                    0      27  62625      0     2     4   1   0\n",
      "3                    0       2      0  20318     0     0   0   0\n",
      "4                  680       0      1      0  3095    94   2   3\n",
      "5                  556      12      0      0    99  2072   1   5\n",
      "6                   48       0      0      0    31    38  84   0\n",
      "7                   34       0      0      0     8    12   0  55\n",
      "Accuracy: 0.993923567797127\n",
      "Precision: 0.9939537687144279\n",
      "Recall:  0.993923567797127\n",
      "F1-score: 0.9937908802384708\n"
     ]
    }
   ],
   "source": [
    "# GB with 30 selected features\n",
    "X_test_lg_30 = X_test.loc[:, lg_features_30]\n",
    "GB(X_train_lg_30, y_train, X_test_lg_30, y_test)"
   ]
  },
  {
   "cell_type": "code",
   "execution_count": 43,
   "id": "69cc5516",
   "metadata": {},
   "outputs": [
    {
     "name": "stdout",
     "output_type": "stream",
     "text": [
      "Predicted attack     0       1      2      3     4     5    6   7\n",
      "Actual attack                                                    \n",
      "0                 7869       1      0      0   301   339    1   7\n",
      "1                    0  262280      4      0     2    18    7   0\n",
      "2                    0      45  62609      2     1     2    0   0\n",
      "3                    0       2      0  20318     0     0    0   0\n",
      "4                  461       0      0      2  3152   251    1   8\n",
      "5                  702     304     14      1   317  1243  156   8\n",
      "6                   17       0      0      0    22    65   97   0\n",
      "7                   21       0      0      0     2    22    0  64\n",
      "Accuracy: 0.9913898729826078\n",
      "Precision: 0.9908455597578111\n",
      "Recall:  0.9913898729826078\n",
      "F1-score: 0.9909662085278406\n"
     ]
    }
   ],
   "source": [
    "# GB with 30 selected features\n",
    "X_test_xg_30 = X_test.loc[:, xg_features_30]\n",
    "GB(X_train_xg_30, y_train, X_test_xg_30, y_test)"
   ]
  },
  {
   "cell_type": "markdown",
   "id": "d15896da",
   "metadata": {},
   "source": [
    "## 7.5 MLP"
   ]
  },
  {
   "cell_type": "code",
   "execution_count": 44,
   "id": "fa2edd25",
   "metadata": {},
   "outputs": [
    {
     "name": "stderr",
     "output_type": "stream",
     "text": [
      "C:\\Users\\Neil Milan\\anaconda3\\Lib\\site-packages\\sklearn\\neural_network\\_multilayer_perceptron.py:546: ConvergenceWarning: lbfgs failed to converge (status=1):\n",
      "STOP: TOTAL NO. of ITERATIONS REACHED LIMIT.\n",
      "\n",
      "Increase the number of iterations (max_iter) or scale the data as shown in:\n",
      "    https://scikit-learn.org/stable/modules/preprocessing.html\n",
      "  self.n_iter_ = _check_optimize_result(\"lbfgs\", opt_res, self.max_iter)\n"
     ]
    },
    {
     "name": "stdout",
     "output_type": "stream",
     "text": [
      "Predicted attack     0       1      2      3     4    5\n",
      "Actual attack                                          \n",
      "0                 6865     332     10      1   963  347\n",
      "1                  271  257085   4673      2    49  231\n",
      "2                  106   50985  11469      1    15   83\n",
      "3                   52      57      9  20102    97    3\n",
      "4                 2016     385     66     65  1209  134\n",
      "5                 1199     371    164      0   238  773\n",
      "6                   96      14      4      1    50   36\n",
      "7                   74       6      0      0     9   20\n",
      "Accuracy: 0.8247065737460428\n",
      "Precision: 0.8058972723215976\n",
      "Recall:  0.8247065737460428\n",
      "F1-score: 0.784053591099855\n"
     ]
    },
    {
     "name": "stderr",
     "output_type": "stream",
     "text": [
      "C:\\Users\\Neil Milan\\anaconda3\\Lib\\site-packages\\sklearn\\metrics\\_classification.py:1469: UndefinedMetricWarning: Precision is ill-defined and being set to 0.0 in labels with no predicted samples. Use `zero_division` parameter to control this behavior.\n",
      "  _warn_prf(average, modifier, msg_start, len(result))\n"
     ]
    }
   ],
   "source": [
    "# MLP with 30 selected features\n",
    "X_test_ig_30 = X_test.loc[:, ig_features_30]\n",
    "MLP(X_train_ig_30, y_train, X_test_ig_30, y_test)"
   ]
  },
  {
   "cell_type": "code",
   "execution_count": 45,
   "id": "43ee38d4",
   "metadata": {},
   "outputs": [
    {
     "name": "stderr",
     "output_type": "stream",
     "text": [
      "C:\\Users\\Neil Milan\\anaconda3\\Lib\\site-packages\\sklearn\\neural_network\\_multilayer_perceptron.py:546: ConvergenceWarning: lbfgs failed to converge (status=1):\n",
      "STOP: TOTAL NO. of ITERATIONS REACHED LIMIT.\n",
      "\n",
      "Increase the number of iterations (max_iter) or scale the data as shown in:\n",
      "    https://scikit-learn.org/stable/modules/preprocessing.html\n",
      "  self.n_iter_ = _check_optimize_result(\"lbfgs\", opt_res, self.max_iter)\n"
     ]
    },
    {
     "name": "stdout",
     "output_type": "stream",
     "text": [
      "Predicted attack     0       1      2      3     4     5\n",
      "Actual attack                                           \n",
      "0                 7429       6      1      6   708   368\n",
      "1                   19  255162   7085      8    13    24\n",
      "2                    7   48372  14178      8     6    88\n",
      "3                    7      74     60  20172     3     4\n",
      "4                 2102       6     14     35  1559   159\n",
      "5                 1186     109    156      0   176  1118\n",
      "6                  119       0      0      3    35    44\n",
      "7                   74       0      0      0    12    23\n"
     ]
    },
    {
     "name": "stderr",
     "output_type": "stream",
     "text": [
      "C:\\Users\\Neil Milan\\anaconda3\\Lib\\site-packages\\sklearn\\metrics\\_classification.py:1469: UndefinedMetricWarning: Precision is ill-defined and being set to 0.0 in labels with no predicted samples. Use `zero_division` parameter to control this behavior.\n",
      "  _warn_prf(average, modifier, msg_start, len(result))\n"
     ]
    },
    {
     "name": "stdout",
     "output_type": "stream",
     "text": [
      "Accuracy: 0.83056955463522\n",
      "Precision: 0.8089653231341136\n",
      "Recall:  0.83056955463522\n",
      "F1-score: 0.7971374911043384\n"
     ]
    }
   ],
   "source": [
    "# MLP with 30 selected features\n",
    "X_test_rfe_30 = X_test.loc[:, rfe_features_30]\n",
    "MLP(X_train_rfe_30, y_train, X_test_rfe_30, y_test)"
   ]
  },
  {
   "cell_type": "code",
   "execution_count": 46,
   "id": "f27c8453",
   "metadata": {},
   "outputs": [
    {
     "name": "stderr",
     "output_type": "stream",
     "text": [
      "C:\\Users\\Neil Milan\\anaconda3\\Lib\\site-packages\\sklearn\\neural_network\\_multilayer_perceptron.py:546: ConvergenceWarning: lbfgs failed to converge (status=1):\n",
      "STOP: TOTAL NO. of ITERATIONS REACHED LIMIT.\n",
      "\n",
      "Increase the number of iterations (max_iter) or scale the data as shown in:\n",
      "    https://scikit-learn.org/stable/modules/preprocessing.html\n",
      "  self.n_iter_ = _check_optimize_result(\"lbfgs\", opt_res, self.max_iter)\n"
     ]
    },
    {
     "name": "stdout",
     "output_type": "stream",
     "text": [
      "Predicted attack     0       1      2      3     4     5\n",
      "Actual attack                                           \n",
      "0                 7487       7      0      1   785   238\n",
      "1                   12  254601   7651     13    10    24\n",
      "2                    4   47792  14805     24     1    33\n",
      "3                    5      69     45  20195     3     3\n",
      "4                 2391      16     35     32  1285   116\n",
      "5                 1296     245     18      3   125  1058\n",
      "6                  138       0      0      2    26    35\n",
      "7                   77       0      0      0     6    26\n"
     ]
    },
    {
     "name": "stderr",
     "output_type": "stream",
     "text": [
      "C:\\Users\\Neil Milan\\anaconda3\\Lib\\site-packages\\sklearn\\metrics\\_classification.py:1469: UndefinedMetricWarning: Precision is ill-defined and being set to 0.0 in labels with no predicted samples. Use `zero_division` parameter to control this behavior.\n",
      "  _warn_prf(average, modifier, msg_start, len(result))\n"
     ]
    },
    {
     "name": "stdout",
     "output_type": "stream",
     "text": [
      "Accuracy: 0.8300511728733874\n",
      "Precision: 0.8085907306793844\n",
      "Recall:  0.8300511728733874\n",
      "F1-score: 0.7977200805605644\n"
     ]
    }
   ],
   "source": [
    "# MLP with 30 selected features\n",
    "X_test_rf_30 = X_test.loc[:, rf_features_30]\n",
    "MLP(X_train_rf_30, y_train, X_test_rf_30, y_test)"
   ]
  },
  {
   "cell_type": "code",
   "execution_count": 47,
   "id": "d39d906d",
   "metadata": {},
   "outputs": [
    {
     "name": "stderr",
     "output_type": "stream",
     "text": [
      "C:\\Users\\Neil Milan\\anaconda3\\Lib\\site-packages\\sklearn\\neural_network\\_multilayer_perceptron.py:546: ConvergenceWarning: lbfgs failed to converge (status=1):\n",
      "STOP: TOTAL NO. of ITERATIONS REACHED LIMIT.\n",
      "\n",
      "Increase the number of iterations (max_iter) or scale the data as shown in:\n",
      "    https://scikit-learn.org/stable/modules/preprocessing.html\n",
      "  self.n_iter_ = _check_optimize_result(\"lbfgs\", opt_res, self.max_iter)\n"
     ]
    },
    {
     "name": "stdout",
     "output_type": "stream",
     "text": [
      "Predicted attack     0       1      2      3     4     5\n",
      "Actual attack                                           \n",
      "0                 7297     223     46      5   437   510\n",
      "1                  451  258328   3367      5    87    73\n",
      "2                  123   50539  11897      3    66    31\n",
      "3                   74      52      1  20124    69     0\n",
      "4                 2154     227    143     98  1122   131\n",
      "5                 1183     135    223      0   126  1078\n",
      "6                  120      14     12      2    17    36\n",
      "7                   74       0      3      0     4    28\n",
      "Accuracy: 0.8312015922913583\n",
      "Precision: 0.8202065077631491\n",
      "Recall:  0.8312015922913583\n",
      "F1-score: 0.7905716356601495\n"
     ]
    },
    {
     "name": "stderr",
     "output_type": "stream",
     "text": [
      "C:\\Users\\Neil Milan\\anaconda3\\Lib\\site-packages\\sklearn\\metrics\\_classification.py:1469: UndefinedMetricWarning: Precision is ill-defined and being set to 0.0 in labels with no predicted samples. Use `zero_division` parameter to control this behavior.\n",
      "  _warn_prf(average, modifier, msg_start, len(result))\n"
     ]
    }
   ],
   "source": [
    "# MLP with 30 selected features\n",
    "X_test_lg_30 = X_test.loc[:, lg_features_30]\n",
    "MLP(X_train_lg_30, y_train, X_test_lg_30, y_test)"
   ]
  },
  {
   "cell_type": "code",
   "execution_count": 48,
   "id": "eaa64e05",
   "metadata": {},
   "outputs": [
    {
     "name": "stderr",
     "output_type": "stream",
     "text": [
      "C:\\Users\\Neil Milan\\anaconda3\\Lib\\site-packages\\sklearn\\neural_network\\_multilayer_perceptron.py:546: ConvergenceWarning: lbfgs failed to converge (status=1):\n",
      "STOP: TOTAL NO. of ITERATIONS REACHED LIMIT.\n",
      "\n",
      "Increase the number of iterations (max_iter) or scale the data as shown in:\n",
      "    https://scikit-learn.org/stable/modules/preprocessing.html\n",
      "  self.n_iter_ = _check_optimize_result(\"lbfgs\", opt_res, self.max_iter)\n"
     ]
    },
    {
     "name": "stdout",
     "output_type": "stream",
     "text": [
      "Predicted attack     0       1      2      3     4     5\n",
      "Actual attack                                           \n",
      "0                 6906       5      0      5   788   814\n",
      "1                    5  254903   7329      8    24    42\n",
      "2                    3   49135  13478      6     7    30\n",
      "3                    1     115     41  20132    26     5\n",
      "4                 1836       9     51     56  1606   317\n",
      "5                  930     242     14      0   167  1392\n",
      "6                   82       0      0      2    40    77\n",
      "7                   74       0      0      0     6    29\n"
     ]
    },
    {
     "name": "stderr",
     "output_type": "stream",
     "text": [
      "C:\\Users\\Neil Milan\\anaconda3\\Lib\\site-packages\\sklearn\\metrics\\_classification.py:1469: UndefinedMetricWarning: Precision is ill-defined and being set to 0.0 in labels with no predicted samples. Use `zero_division` parameter to control this behavior.\n",
      "  _warn_prf(average, modifier, msg_start, len(result))\n"
     ]
    },
    {
     "name": "stdout",
     "output_type": "stream",
     "text": [
      "Accuracy: 0.827240268560562\n",
      "Precision: 0.8039201117831736\n",
      "Recall:  0.827240268560562\n",
      "F1-score: 0.793042846960013\n"
     ]
    }
   ],
   "source": [
    "# MLP with 30 selected features\n",
    "X_test_xg_30 = X_test.loc[:, xg_features_30]\n",
    "MLP(X_train_xg_30, y_train, X_test_xg_30, y_test)"
   ]
  },
  {
   "cell_type": "code",
   "execution_count": null,
   "id": "29f2dd90",
   "metadata": {},
   "outputs": [],
   "source": []
  }
 ],
 "metadata": {
  "kernelspec": {
   "display_name": "Python 3 (ipykernel)",
   "language": "python",
   "name": "python3"
  },
  "language_info": {
   "codemirror_mode": {
    "name": "ipython",
    "version": 3
   },
   "file_extension": ".py",
   "mimetype": "text/x-python",
   "name": "python",
   "nbconvert_exporter": "python",
   "pygments_lexer": "ipython3",
   "version": "3.11.8"
  }
 },
 "nbformat": 4,
 "nbformat_minor": 5
}
